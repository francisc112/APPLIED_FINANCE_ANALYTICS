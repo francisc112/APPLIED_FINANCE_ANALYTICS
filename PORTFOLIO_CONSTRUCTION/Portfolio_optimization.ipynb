{
 "cells": [
  {
   "cell_type": "markdown",
   "id": "625613f4",
   "metadata": {},
   "source": [
    "# Portfolio Optimization Project"
   ]
  },
  {
   "cell_type": "markdown",
   "id": "8146e35e",
   "metadata": {},
   "source": [
    "# 📑 Table of Contents\n",
    "\n",
    "Welcome to the **Portfolio Optimization Project** — a full walk-through of modern portfolio management concepts using Python, Jupyter, and financial theory. \n",
    "\n",
    "---\n",
    "\n",
    "## Part I — Foundations: Statistics & Efficient Frontiers\n",
    "- [1. Statistical Analysis & KPIs](#1-statistical-analysis--kpis)  \n",
    "  Compute returns, volatility, Sharpe/Sortino ratios, skewness, kurtosis, correlations, and cumulative charts.  \n",
    "- [2. Two-Asset Efficient Frontier](#2-two-asset-efficient-frontier)  \n",
    "  Visualize diversification benefits with a simple two-asset trade-off.  \n",
    "- [3. Three-Asset Efficient Frontier](#3-three-asset-efficient-frontier)  \n",
    "  Extend frontier analysis to three assets using 3D plots.  \n",
    "- [4. Multi-Asset Efficient Frontier](#4-multi-asset-efficient-frontier)  \n",
    "  Construct the full frontier with all assets; compare unconstrained vs. constrained versions.  \n",
    "\n",
    "---\n",
    "\n",
    "## Part II — Optimization & Allocation\n",
    "- [5. Mean–Variance Optimization (MVO)](#5-meanvariance-optimization-mvo)  \n",
    "  Implement baseline and constrained MVO using historical mean & covariance.  \n",
    "- [6. Optimal Asset Allocation](#6-optimal-asset-allocation)  \n",
    "  Derive efficient allocations across risk targets and compare concentration.  \n",
    "- [7. Max Sharpe & Max Sortino Portfolios](#7-maximize-sharpe--sortino-portfolios)  \n",
    "  Optimize explicitly for risk-adjusted return metrics and compare results.  \n",
    "\n",
    "---\n",
    "\n",
    "## Part III — Forward-Looking Analysis\n",
    "- [8. Capital Market Expectations](#8-capital-market-expectations)  \n",
    "  Introduce forward-looking assumptions and optional Black–Litterman.  \n",
    "- [9. Forward-Looking Portfolio Statistics](#9-forward-looking-portfolio-statistics)  \n",
    "  Recompute risk/return metrics; simulate outcomes (Monte Carlo, VaR, CVaR).  \n",
    "- [10. Strategic Asset Allocation](#10-strategic-asset-allocation)  \n",
    "  Define long-term policy portfolio; compare vs. optimized allocations.  \n",
    "\n",
    "---\n",
    "\n",
    "## Part IV — Backtesting & Evaluation\n",
    "- [11. Backtesting](#11-backtesting)  \n",
    "  Run rolling-window simulations with costs, turnover, and benchmarks:  \n",
    "  - Equal Weight  \n",
    "  - 60/40  \n",
    "  - Inverse-Volatility  \n",
    "  - Min-Variance  \n",
    "\n",
    "---\n",
    "\n",
    "## Conclusion & Next Steps\n",
    "-  Summarize insights  \n",
    "-  Highlight trade-offs (theory vs. implementation)  \n",
    "-  Suggest future extensions (factor models, robust optimization, Black–Litterman)  \n"
   ]
  },
  {
   "cell_type": "markdown",
   "id": "8fe3494b",
   "metadata": {},
   "source": [
    "## 📊 Statistical Analysis of Portfolio and Individual Securities\n",
    "\n",
    "### Introduction\n",
    "This notebook begins the **Portfolio Optimization Project** by analyzing the statistical properties of both the **individual securities** and the **overall portfolio**. The purpose is the following:\n",
    "\n",
    "1. **Understand the data**: Before applying optimization techniques, we need to explore the underlying behavior of the assets in terms of returns, risk, and correlations.  \n",
    "2. **Establish baselines**: These descriptive statistics will serve as benchmarks against which optimization and constraints can be evaluated.\n",
    "\n",
    "### Objectives\n",
    "- Ingest and clean price data from Financial Modeling Prep\n",
    "- Compute **daily log returns** and derive annualized metrics.  \n",
    "- Perform statistical analysis at both the **asset level** and **portfolio level**:  \n",
    "  - Expected return  \n",
    "  - Volatility (standard deviation)  \n",
    "  - Sharpe ratio (with constant risk-free rate)  \n",
    "  - Skewness & kurtosis  \n",
    "  - Correlation matrix\n",
    "  - Sortino Ratio\n",
    "  - Appraisal Ratio\n",
    "- Visualize key results using plots and tables.  \n"
   ]
  },
  {
   "cell_type": "markdown",
   "id": "8f479280",
   "metadata": {},
   "source": [
    "## STEP #1: Portfolio and Individual ETFs data analysis"
   ]
  },
  {
   "cell_type": "code",
   "execution_count": null,
   "id": "57866ded",
   "metadata": {},
   "outputs": [],
   "source": [
    "import pandas as pd\n",
    "import numpy as np\n",
    "import os\n",
    "import sys\n",
    "import dotenv\n",
    "from dotenv import load_dotenv\n",
    "\n",
    "import sys\n",
    "# Go one level up to the project root\n",
    "parent_dir = os.path.abspath('..')\n",
    "if parent_dir not in sys.path:\n",
    "    sys.path.append(parent_dir)\n",
    "\n",
    "from common.PortConnect import Port_Connect\n",
    "from common.Portfolio import Portfolio_Stats\n"
   ]
  },
  {
   "cell_type": "code",
   "execution_count": null,
   "id": "945048ac",
   "metadata": {},
   "outputs": [],
   "source": []
  }
 ],
 "metadata": {
  "kernelspec": {
   "display_name": "APPLIED_ANALYTICS_FINANCE",
   "language": "python",
   "name": "python3"
  },
  "language_info": {
   "codemirror_mode": {
    "name": "ipython",
    "version": 3
   },
   "file_extension": ".py",
   "mimetype": "text/x-python",
   "name": "python",
   "nbconvert_exporter": "python",
   "pygments_lexer": "ipython3",
   "version": "3.12.9"
  }
 },
 "nbformat": 4,
 "nbformat_minor": 5
}
