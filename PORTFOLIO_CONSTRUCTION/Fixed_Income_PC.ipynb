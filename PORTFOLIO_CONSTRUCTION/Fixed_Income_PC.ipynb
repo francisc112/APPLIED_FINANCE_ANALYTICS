{
 "cells": [
  {
   "cell_type": "code",
   "execution_count": 1,
   "metadata": {},
   "outputs": [],
   "source": [
    "import pandas as pd\n",
    "import numpy as np\n",
    "import os\n",
    "import sys\n",
    "import dotenv\n",
    "from dotenv import load_dotenv"
   ]
  },
  {
   "cell_type": "code",
   "execution_count": 17,
   "metadata": {},
   "outputs": [],
   "source": [
    "\n",
    "# Go one level up to the project root\n",
    "parent_dir = os.path.abspath('..')\n",
    "if parent_dir not in sys.path:\n",
    "    sys.path.append(parent_dir)\n",
    "\n",
    "from common.Bond import Bond\n"
   ]
  },
  {
   "cell_type": "code",
   "execution_count": 18,
   "metadata": {},
   "outputs": [],
   "source": [
    "class Bond_Portfolio:\n",
    "    def __init__(self, bonds, weights):\n",
    "        \"\"\"\n",
    "        Initialize a bond portfolio.\n",
    "        :param bonds: List of Bond objects.\n",
    "        :param weights: List of weights for each bond (should sum to 1).\n",
    "        \"\"\"\n",
    "        self.bonds = bonds\n",
    "        self.weights = weights\n",
    "\n",
    "    def portfolio_price(self):\n",
    "        \"\"\"\n",
    "        Compute the portfolio price as the weighted sum of individual bond prices.\n",
    "        \"\"\"\n",
    "        return sum(w * bond.price() for bond, w in zip(self.bonds, self.weights))\n",
    "\n",
    "    def portfolio_modified_duration(self, dy=0.0001):\n",
    "        \"\"\"\n",
    "        Compute the portfolio modified duration as a market-value weighted average.\n",
    "        \"\"\"\n",
    "        total_value = sum(bond.price() for bond in self.bonds)\n",
    "        weighted_duration = sum(bond.price() * bond.modified_duration(dy) for bond in self.bonds)\n",
    "        return weighted_duration / total_value\n",
    "\n",
    "    def portfolio_convexity(self, dy=0.0001):\n",
    "        \"\"\"\n",
    "        Compute the portfolio convexity as a market-value weighted average.\n",
    "        \"\"\"\n",
    "        total_value = sum(bond.price() for bond in self.bonds)\n",
    "        weighted_convexity = sum(bond.price() * bond.convexity(dy) for bond in self.bonds)\n",
    "        return weighted_convexity / total_value\n",
    "\n",
    "    def portfolio_effective_duration(self, dy=0.0001):\n",
    "        \"\"\"\n",
    "        Compute the portfolio effective duration as a market-value weighted average.\n",
    "        \"\"\"\n",
    "        total_value = sum(bond.price() for bond in self.bonds)\n",
    "        weighted_eff_duration = sum(bond.price() * bond.effective_duration(dy) for bond in self.bonds)\n",
    "        return weighted_eff_duration / total_value\n",
    "\n",
    "    def portfolio_effective_convexity(self, dy=0.0001):\n",
    "        \"\"\"\n",
    "        Compute the portfolio effective convexity as a market-value weighted average.\n",
    "        \"\"\"\n",
    "        total_value = sum(bond.price() for bond in self.bonds)\n",
    "        weighted_eff_convexity = sum(bond.price() * bond.effective_convexity(dy) for bond in self.bonds)\n",
    "        return weighted_eff_convexity / total_value\n",
    "\n",
    "    def portfolio_spread_duration(self, dy=0.0001):\n",
    "        \"\"\"\n",
    "        Compute the portfolio spread duration as a market-value weighted average.\n",
    "        \"\"\"\n",
    "        total_value = sum(bond.price() for bond in self.bonds)\n",
    "        weighted_spread_duration = sum(bond.price() * bond.spread_duration(dy) for bond in self.bonds)\n",
    "        return weighted_spread_duration / total_value\n",
    "\n",
    "    def portfolio_duration_times_spread(self, dy=0.0001):\n",
    "        \"\"\"\n",
    "        Compute the portfolio's Duration times Spread as a market-value weighted average.\n",
    "        \"\"\"\n",
    "        total_value = sum(bond.price() for bond in self.bonds)\n",
    "        weighted_dts = sum(bond.price() * bond.duration_times_spread(dy) for bond in self.bonds)\n",
    "        return weighted_dts / total_value\n"
   ]
  },
  {
   "cell_type": "code",
   "execution_count": 19,
   "metadata": {},
   "outputs": [
    {
     "data": {
      "text/plain": [
       "827.4737495874341"
      ]
     },
     "execution_count": 19,
     "metadata": {},
     "output_type": "execute_result"
    }
   ],
   "source": [
    "# Create a couple of bond instances with sample parameters:\n",
    "bond1 = Bond(face=1000, coupon_rate=0.0533, ytm=0.0525, years=10, frequency=2, spread=0.001)\n",
    "bond2 = Bond(face=1000, coupon_rate=0.0505, ytm=0.0624, years=22, frequency=2, spread=0.003)\n",
    "\n",
    "bond2.price()"
   ]
  },
  {
   "cell_type": "code",
   "execution_count": 20,
   "metadata": {},
   "outputs": [
    {
     "name": "stdout",
     "output_type": "stream",
     "text": [
      "Bond 1 Price:             998.47\n",
      "Bond 1 Modified Duration: 7.6718\n",
      "Bond 1 Convexity:         71.9458\n",
      "Bond 1 Effective Duration: 7.6718\n",
      "Bond 1 Effective Convexity: 71.9458\n",
      "Bond 1 Spread Duration:   7.6718\n",
      "Bond 1 Duration x Spread: 0.0077\n"
     ]
    }
   ],
   "source": [
    "# Display measures for bond1:\n",
    "print(\"Bond 1 Price:            \", round(bond1.price(), 2))\n",
    "print(\"Bond 1 Modified Duration:\", round(bond1.modified_duration(), 4))\n",
    "print(\"Bond 1 Convexity:        \", round(bond1.convexity(), 4))\n",
    "print(\"Bond 1 Effective Duration:\", round(bond1.effective_duration(), 4))\n",
    "print(\"Bond 1 Effective Convexity:\", round(bond1.effective_convexity(), 4))\n",
    "print(\"Bond 1 Spread Duration:  \", round(bond1.spread_duration(), 4))\n",
    "print(\"Bond 1 Duration x Spread:\", round(bond1.duration_times_spread(), 4))"
   ]
  },
  {
   "cell_type": "code",
   "execution_count": 22,
   "metadata": {},
   "outputs": [
    {
     "name": "stdout",
     "output_type": "stream",
     "text": [
      "\n",
      "Portfolio Price:                    912.97\n",
      "Portfolio Modified Duration:        9.737\n",
      "Portfolio Convexity:                136.2679\n",
      "Portfolio Effective Duration:       9.737\n",
      "Portfolio Effective Convexity:      136.2679\n",
      "Portfolio Spread Duration:          9.737\n",
      "Portfolio Duration x Spread:        0.0208\n"
     ]
    }
   ],
   "source": [
    "# Create a portfolio using the two bonds with equal weights:\n",
    "portfolio = Bond_Portfolio(bonds=[bond1, bond2], weights=[0.5, 0.5])\n",
    "\n",
    "# Display portfolio measures:\n",
    "print(\"\\nPortfolio Price:                   \", round(portfolio.portfolio_price(), 2))\n",
    "print(\"Portfolio Modified Duration:       \", round(portfolio.portfolio_modified_duration(), 4))\n",
    "print(\"Portfolio Convexity:               \", round(portfolio.portfolio_convexity(), 4))\n",
    "print(\"Portfolio Effective Duration:      \", round(portfolio.portfolio_effective_duration(), 4))\n",
    "print(\"Portfolio Effective Convexity:     \", round(portfolio.portfolio_effective_convexity(), 4))\n",
    "print(\"Portfolio Spread Duration:         \", round(portfolio.portfolio_spread_duration(), 4))\n",
    "print(\"Portfolio Duration x Spread:       \", round(portfolio.portfolio_duration_times_spread(), 4))"
   ]
  },
  {
   "cell_type": "code",
   "execution_count": null,
   "metadata": {},
   "outputs": [],
   "source": []
  }
 ],
 "metadata": {
  "kernelspec": {
   "display_name": "APPLIED_ANALYTICS_FINANCE",
   "language": "python",
   "name": "python3"
  },
  "language_info": {
   "codemirror_mode": {
    "name": "ipython",
    "version": 3
   },
   "file_extension": ".py",
   "mimetype": "text/x-python",
   "name": "python",
   "nbconvert_exporter": "python",
   "pygments_lexer": "ipython3",
   "version": "3.12.9"
  }
 },
 "nbformat": 4,
 "nbformat_minor": 2
}
