{
 "cells": [
  {
   "cell_type": "code",
   "execution_count": null,
   "metadata": {},
   "outputs": [],
   "source": []
  },
  {
   "cell_type": "code",
   "execution_count": 1,
   "metadata": {},
   "outputs": [],
   "source": [
    "import pandas as pd\n",
    "import numpy as np\n",
    "import os\n",
    "import sys\n",
    "import dotenv\n",
    "from dotenv import load_dotenv"
   ]
  },
  {
   "cell_type": "code",
   "execution_count": 23,
   "metadata": {},
   "outputs": [],
   "source": [
    "import sys\n",
    "# Go one level up to the project root\n",
    "parent_dir = os.path.abspath('..')\n",
    "if parent_dir not in sys.path:\n",
    "    sys.path.append(parent_dir)\n",
    "\n",
    "from common.PortConnect import Port_Connect\n",
    "from common.Portfolio import Portfolio_Stats"
   ]
  },
  {
   "cell_type": "markdown",
   "metadata": {},
   "source": [
    "# Use the portfolio connector to retrieve prices"
   ]
  },
  {
   "cell_type": "code",
   "execution_count": 7,
   "metadata": {},
   "outputs": [],
   "source": [
    "fmp_key = os.getenv(\"API_KEY\")"
   ]
  },
  {
   "cell_type": "code",
   "execution_count": 16,
   "metadata": {},
   "outputs": [],
   "source": [
    "port = Port_Connect(api_key=fmp_key)\n",
    "portfolio = Portfolio_Stats()"
   ]
  },
  {
   "cell_type": "markdown",
   "metadata": {},
   "source": [
    "# Asset-Only Asset Allocations and Mean–Variance Optimization"
   ]
  },
  {
   "cell_type": "markdown",
   "metadata": {},
   "source": [
    "## Calculate the investor's utility function for the asset mix\n",
    "\n",
    "This is a formula that calculates the expected return for the investor, as a function of the expected return and an inverse relationship of the investor's risk aversion and variance return\n",
    "\n",
    "Lets use the S&P 500 for this calculation"
   ]
  },
  {
   "cell_type": "code",
   "execution_count": 10,
   "metadata": {},
   "outputs": [
    {
     "name": "stderr",
     "output_type": "stream",
     "text": [
      "/Users/franciscoruiz/Desktop/APPLIED_FINANCE_ANALYTICS/APPLIED_FINANCE_ANALYTICS/common/PortConnect.py:56: UserWarning: The argument 'infer_datetime_format' is deprecated and will be removed in a future version. A strict version of it is now the default, see https://pandas.pydata.org/pdeps/0004-consistent-to-datetime-parsing.html. You can safely remove this argument.\n",
      "  df['date'] = pd.to_datetime(df['date'],infer_datetime_format=True)\n",
      "/Users/franciscoruiz/Desktop/APPLIED_FINANCE_ANALYTICS/APPLIED_FINANCE_ANALYTICS/common/PortConnect.py:62: UserWarning: The argument 'infer_datetime_format' is deprecated and will be removed in a future version. A strict version of it is now the default, see https://pandas.pydata.org/pdeps/0004-consistent-to-datetime-parsing.html. You can safely remove this argument.\n",
      "  df.set_index = pd.to_datetime(df.index, infer_datetime_format=True)\n",
      "/Users/franciscoruiz/Desktop/APPLIED_FINANCE_ANALYTICS/APPLIED_FINANCE_ANALYTICS/common/PortConnect.py:250: UserWarning: The argument 'infer_datetime_format' is deprecated and will be removed in a future version. A strict version of it is now the default, see https://pandas.pydata.org/pdeps/0004-consistent-to-datetime-parsing.html. You can safely remove this argument.\n",
      "  closing_df.index = pd.to_datetime(closing_df.index, infer_datetime_format=True)\n"
     ]
    },
    {
     "data": {
      "text/html": [
       "<div>\n",
       "<style scoped>\n",
       "    .dataframe tbody tr th:only-of-type {\n",
       "        vertical-align: middle;\n",
       "    }\n",
       "\n",
       "    .dataframe tbody tr th {\n",
       "        vertical-align: top;\n",
       "    }\n",
       "\n",
       "    .dataframe thead th {\n",
       "        text-align: right;\n",
       "    }\n",
       "</style>\n",
       "<table border=\"1\" class=\"dataframe\">\n",
       "  <thead>\n",
       "    <tr style=\"text-align: right;\">\n",
       "      <th>symbol</th>\n",
       "      <th>SPY</th>\n",
       "    </tr>\n",
       "    <tr>\n",
       "      <th>date</th>\n",
       "      <th></th>\n",
       "    </tr>\n",
       "  </thead>\n",
       "  <tbody>\n",
       "    <tr>\n",
       "      <th>2003-11-10</th>\n",
       "      <td>105.18</td>\n",
       "    </tr>\n",
       "    <tr>\n",
       "      <th>2002-02-11</th>\n",
       "      <td>111.44</td>\n",
       "    </tr>\n",
       "    <tr>\n",
       "      <th>2022-06-08</th>\n",
       "      <td>411.22</td>\n",
       "    </tr>\n",
       "  </tbody>\n",
       "</table>\n",
       "</div>"
      ],
      "text/plain": [
       "symbol         SPY\n",
       "date              \n",
       "2003-11-10  105.18\n",
       "2002-02-11  111.44\n",
       "2022-06-08  411.22"
      ]
     },
     "execution_count": 10,
     "metadata": {},
     "output_type": "execute_result"
    }
   ],
   "source": [
    "spy = port.get_closing_prices('SPY')\n",
    "spy.sample(3)"
   ]
  },
  {
   "cell_type": "markdown",
   "metadata": {},
   "source": [
    "Calculate the percentage change of the daily closing prices"
   ]
  },
  {
   "cell_type": "code",
   "execution_count": 11,
   "metadata": {},
   "outputs": [
    {
     "data": {
      "text/html": [
       "<div>\n",
       "<style scoped>\n",
       "    .dataframe tbody tr th:only-of-type {\n",
       "        vertical-align: middle;\n",
       "    }\n",
       "\n",
       "    .dataframe tbody tr th {\n",
       "        vertical-align: top;\n",
       "    }\n",
       "\n",
       "    .dataframe thead th {\n",
       "        text-align: right;\n",
       "    }\n",
       "</style>\n",
       "<table border=\"1\" class=\"dataframe\">\n",
       "  <thead>\n",
       "    <tr style=\"text-align: right;\">\n",
       "      <th>symbol</th>\n",
       "      <th>SPY</th>\n",
       "      <th>Change</th>\n",
       "    </tr>\n",
       "    <tr>\n",
       "      <th>date</th>\n",
       "      <th></th>\n",
       "      <th></th>\n",
       "    </tr>\n",
       "  </thead>\n",
       "  <tbody>\n",
       "    <tr>\n",
       "      <th>2025-03-20</th>\n",
       "      <td>565.49</td>\n",
       "      <td>-0.002892</td>\n",
       "    </tr>\n",
       "    <tr>\n",
       "      <th>2025-03-21</th>\n",
       "      <td>563.98</td>\n",
       "      <td>-0.002670</td>\n",
       "    </tr>\n",
       "    <tr>\n",
       "      <th>2025-03-24</th>\n",
       "      <td>574.08</td>\n",
       "      <td>0.017908</td>\n",
       "    </tr>\n",
       "  </tbody>\n",
       "</table>\n",
       "</div>"
      ],
      "text/plain": [
       "symbol         SPY    Change\n",
       "date                        \n",
       "2025-03-20  565.49 -0.002892\n",
       "2025-03-21  563.98 -0.002670\n",
       "2025-03-24  574.08  0.017908"
      ]
     },
     "execution_count": 11,
     "metadata": {},
     "output_type": "execute_result"
    }
   ],
   "source": [
    "spy['Change']  = spy['SPY'].pct_change()\n",
    "spy.tail(3)"
   ]
  },
  {
   "cell_type": "markdown",
   "metadata": {},
   "source": [
    "What is the range of the data?"
   ]
  },
  {
   "cell_type": "code",
   "execution_count": 13,
   "metadata": {},
   "outputs": [
    {
     "name": "stdout",
     "output_type": "stream",
     "text": [
      "The first date is  1993-01-29 00:00:00\n",
      "The last date is  2025-03-24 00:00:00\n"
     ]
    }
   ],
   "source": [
    "print(\"The first date is \",spy.index[0])\n",
    "print(\"The last date is \",spy.index[-1])"
   ]
  },
  {
   "cell_type": "markdown",
   "metadata": {},
   "source": [
    "Now, let's calculate the mean return and variance of the whole series"
   ]
  },
  {
   "cell_type": "code",
   "execution_count": 30,
   "metadata": {},
   "outputs": [
    {
     "name": "stdout",
     "output_type": "stream",
     "text": [
      "Mean return is  8.331\n",
      "Mean Variance is  3.465\n"
     ]
    }
   ],
   "source": [
    "mean_return = portfolio.annualize_rets(spy['Change'],252)\n",
    "mean_vol = spy['Change'].var() * 252\n",
    "\n",
    "print('Mean return is ',np.round(mean_return,5) * 100)\n",
    "print('Mean Variance is ',np.round(mean_vol,5) * 100)"
   ]
  },
  {
   "cell_type": "markdown",
   "metadata": {},
   "source": [
    "Lets calculate the investors utility of the SPY\n",
    "\n",
    "$$\n",
    "U_m = E(R_m) - 0.5 \\lambda \\sigma_m^2\n",
    "$$\n",
    "\n",
    "$U_m$ = the investor’s utility for asset mix (allocation) m\n",
    "\n",
    "$E(R_m)$  = the return for asset mix m\n",
    "\n",
    "$ \\lambda $ = the investor’s risk aversion coefficient\n",
    "\n",
    "$ \\sigma_m^2 $ = the expected variance of return for asset mix m"
   ]
  },
  {
   "cell_type": "markdown",
   "metadata": {},
   "source": [
    "so lets assume that the risk aversion coefficient for an investor is 2 (Risk tolerant investor)"
   ]
  },
  {
   "cell_type": "code",
   "execution_count": 34,
   "metadata": {},
   "outputs": [
    {
     "name": "stdout",
     "output_type": "stream",
     "text": [
      "The investors utility is  4.87\n"
     ]
    }
   ],
   "source": [
    "ret = mean_return\n",
    "vol = mean_vol\n",
    "risk_coefficient = 2\n",
    "\n",
    "investor_utility = ret - 0.5*risk_coefficient*vol\n",
    "print('The investors utility is ',np.round(investor_utility,4) * 100)"
   ]
  },
  {
   "cell_type": "markdown",
   "metadata": {},
   "source": [
    "so, what does it mean that the investor's utility is 4.87%? \n",
    "\n",
    "The 4.87% can be interpreted as the certainty equivalent return—the guaranteed return the investor would consider equally desirable as the risky investment. Despite the potential for higher returns with risk, the risk penalty “lowers” the effective return to 4.87% given the investor’s risk preferences.\n",
    "\n"
   ]
  },
  {
   "cell_type": "markdown",
   "metadata": {},
   "source": [
    "## Use Monte Carlo Simulation in order to analyze a portfolio for retirement\n",
    "\n",
    "The client has 1M USD as his initial portfolio, wants to withdraw 5OK USD per year and expects to live 25 years more. He wants to live his children the same 1M USD in real terms (inflation of 2.6% annually)\n",
    "\n",
    "Assuming a return of 8.5% and a volatility of 18%, what is the probability of achieving the desired goal?"
   ]
  },
  {
   "cell_type": "code",
   "execution_count": 51,
   "metadata": {},
   "outputs": [
    {
     "data": {
      "image/png": "[encoded data removed]",
      "text/plain": [
       "<Figure size 1000x600 with 1 Axes>"
      ]
     },
     "metadata": {},
     "output_type": "display_data"
    },
    {
     "name": "stdout",
     "output_type": "stream",
     "text": [
      "Median Real Portfolio Value at end of 25 years: USD$ 1064502.72\n"
     ]
    }
   ],
   "source": [
    "import numpy as np\n",
    "import matplotlib.pyplot as plt\n",
    "\n",
    "# Parameters\n",
    "initial_portfolio = 1_000_000     # Initial portfolio value in USD$\n",
    "withdrawal = 50_000               # Annual withdrawal in USD$\n",
    "years = 25                      # Retirement period (years)\n",
    "n_simulations = 10000           # Number of Monte Carlo simulation runs\n",
    "\n",
    "# Capital market expectations for the portfolio (nominal values)\n",
    "nominal_return_mean = 0.085     # 7.5% expected nominal return per year\n",
    "nominal_return_std = 0.18       # 11% standard deviation of nominal returns\n",
    "inflation = 0.026               # 2.6% annual inflation\n",
    "\n",
    "# Create an array to hold the portfolio values for each simulation over time.\n",
    "# We include year 0 (the starting portfolio) and then one value per year.\n",
    "portfolio_sim = np.zeros((n_simulations, years + 1))\n",
    "portfolio_sim[:, 0] = initial_portfolio\n",
    "\n",
    "# Run the Monte Carlo simulation for each simulation path\n",
    "for sim in range(n_simulations):\n",
    "    portfolio = initial_portfolio\n",
    "    for year in range(1, years + 1):\n",
    "        # Draw a random nominal return for the year from a normal distribution.\n",
    "        r = np.random.normal(nominal_return_mean, nominal_return_std)\n",
    "        # Update the portfolio: grow by the nominal return, then withdraw the fixed amount.\n",
    "        portfolio = portfolio * (1 + r) - withdrawal\n",
    "        portfolio_sim[sim, year] = portfolio\n",
    "\n",
    "# Discount nominal portfolio values to real terms by adjusting for inflation.\n",
    "# Create an array of discount factors: (1 + inflation) ** year\n",
    "years_array = np.arange(years + 1)\n",
    "discount_factors = (1 + inflation) ** years_array\n",
    "\n",
    "# Divide each year's nominal value by the corresponding discount factor.\n",
    "portfolio_sim_real = portfolio_sim / discount_factors[np.newaxis, :]\n",
    "\n",
    "# Compute selected percentiles (10th, 25th, 50th, 75th, and 90th) across all simulations for each year.\n",
    "percentiles = [10, 25, 50, 75, 90]\n",
    "portfolio_percentiles = np.percentile(portfolio_sim_real, percentiles, axis=0)\n",
    "\n",
    "# Plot the percentile paths over time.\n",
    "plt.figure(figsize=(10, 6))\n",
    "for i, perc in enumerate(percentiles):\n",
    "    plt.plot(years_array, portfolio_percentiles[i, :], label=f\"{perc}th percentile\")\n",
    "plt.xlabel(\"Year\")\n",
    "plt.ylabel(\"Real Portfolio Value (USD$)\")\n",
    "plt.title(\"Monte Carlo Simulation: Real Portfolio Value Over 25 Years\")\n",
    "plt.legend()\n",
    "plt.grid(True)\n",
    "plt.show()\n",
    "\n",
    "# Print the median (50th percentile) real portfolio value at the end of 25 years.\n",
    "median_bequest = np.median(portfolio_sim_real[:, -1])\n",
    "print(\"Median Real Portfolio Value at end of 25 years: USD$\", round(median_bequest, 2))\n"
   ]
  },
  {
   "cell_type": "markdown",
   "metadata": {},
   "source": [
    "# Create Portfolio"
   ]
  },
  {
   "cell_type": "code",
   "execution_count": 134,
   "metadata": {},
   "outputs": [
    {
     "name": "stderr",
     "output_type": "stream",
     "text": [
      "/Users/franciscoruiz/Desktop/APPLIED_FINANCE_ANALYTICS/APPLIED_FINANCE_ANALYTICS/common/PortConnect.py:56: UserWarning: The argument 'infer_datetime_format' is deprecated and will be removed in a future version. A strict version of it is now the default, see https://pandas.pydata.org/pdeps/0004-consistent-to-datetime-parsing.html. You can safely remove this argument.\n",
      "  df['date'] = pd.to_datetime(df['date'],infer_datetime_format=True)\n",
      "/Users/franciscoruiz/Desktop/APPLIED_FINANCE_ANALYTICS/APPLIED_FINANCE_ANALYTICS/common/PortConnect.py:62: UserWarning: The argument 'infer_datetime_format' is deprecated and will be removed in a future version. A strict version of it is now the default, see https://pandas.pydata.org/pdeps/0004-consistent-to-datetime-parsing.html. You can safely remove this argument.\n",
      "  df.set_index = pd.to_datetime(df.index, infer_datetime_format=True)\n",
      "/Users/franciscoruiz/Desktop/APPLIED_FINANCE_ANALYTICS/APPLIED_FINANCE_ANALYTICS/common/PortConnect.py:56: UserWarning: The argument 'infer_datetime_format' is deprecated and will be removed in a future version. A strict version of it is now the default, see https://pandas.pydata.org/pdeps/0004-consistent-to-datetime-parsing.html. You can safely remove this argument.\n",
      "  df['date'] = pd.to_datetime(df['date'],infer_datetime_format=True)\n",
      "/Users/franciscoruiz/Desktop/APPLIED_FINANCE_ANALYTICS/APPLIED_FINANCE_ANALYTICS/common/PortConnect.py:62: UserWarning: The argument 'infer_datetime_format' is deprecated and will be removed in a future version. A strict version of it is now the default, see https://pandas.pydata.org/pdeps/0004-consistent-to-datetime-parsing.html. You can safely remove this argument.\n",
      "  df.set_index = pd.to_datetime(df.index, infer_datetime_format=True)\n",
      "/Users/franciscoruiz/Desktop/APPLIED_FINANCE_ANALYTICS/APPLIED_FINANCE_ANALYTICS/common/PortConnect.py:56: UserWarning: The argument 'infer_datetime_format' is deprecated and will be removed in a future version. A strict version of it is now the default, see https://pandas.pydata.org/pdeps/0004-consistent-to-datetime-parsing.html. You can safely remove this argument.\n",
      "  df['date'] = pd.to_datetime(df['date'],infer_datetime_format=True)\n",
      "/Users/franciscoruiz/Desktop/APPLIED_FINANCE_ANALYTICS/APPLIED_FINANCE_ANALYTICS/common/PortConnect.py:62: UserWarning: The argument 'infer_datetime_format' is deprecated and will be removed in a future version. A strict version of it is now the default, see https://pandas.pydata.org/pdeps/0004-consistent-to-datetime-parsing.html. You can safely remove this argument.\n",
      "  df.set_index = pd.to_datetime(df.index, infer_datetime_format=True)\n",
      "/Users/franciscoruiz/Desktop/APPLIED_FINANCE_ANALYTICS/APPLIED_FINANCE_ANALYTICS/common/PortConnect.py:56: UserWarning: The argument 'infer_datetime_format' is deprecated and will be removed in a future version. A strict version of it is now the default, see https://pandas.pydata.org/pdeps/0004-consistent-to-datetime-parsing.html. You can safely remove this argument.\n",
      "  df['date'] = pd.to_datetime(df['date'],infer_datetime_format=True)\n",
      "/Users/franciscoruiz/Desktop/APPLIED_FINANCE_ANALYTICS/APPLIED_FINANCE_ANALYTICS/common/PortConnect.py:62: UserWarning: The argument 'infer_datetime_format' is deprecated and will be removed in a future version. A strict version of it is now the default, see https://pandas.pydata.org/pdeps/0004-consistent-to-datetime-parsing.html. You can safely remove this argument.\n",
      "  df.set_index = pd.to_datetime(df.index, infer_datetime_format=True)\n",
      "/Users/franciscoruiz/Desktop/APPLIED_FINANCE_ANALYTICS/APPLIED_FINANCE_ANALYTICS/common/PortConnect.py:56: UserWarning: The argument 'infer_datetime_format' is deprecated and will be removed in a future version. A strict version of it is now the default, see https://pandas.pydata.org/pdeps/0004-consistent-to-datetime-parsing.html. You can safely remove this argument.\n",
      "  df['date'] = pd.to_datetime(df['date'],infer_datetime_format=True)\n",
      "/Users/franciscoruiz/Desktop/APPLIED_FINANCE_ANALYTICS/APPLIED_FINANCE_ANALYTICS/common/PortConnect.py:62: UserWarning: The argument 'infer_datetime_format' is deprecated and will be removed in a future version. A strict version of it is now the default, see https://pandas.pydata.org/pdeps/0004-consistent-to-datetime-parsing.html. You can safely remove this argument.\n",
      "  df.set_index = pd.to_datetime(df.index, infer_datetime_format=True)\n",
      "/Users/franciscoruiz/Desktop/APPLIED_FINANCE_ANALYTICS/APPLIED_FINANCE_ANALYTICS/common/PortConnect.py:56: UserWarning: The argument 'infer_datetime_format' is deprecated and will be removed in a future version. A strict version of it is now the default, see https://pandas.pydata.org/pdeps/0004-consistent-to-datetime-parsing.html. You can safely remove this argument.\n",
      "  df['date'] = pd.to_datetime(df['date'],infer_datetime_format=True)\n",
      "/Users/franciscoruiz/Desktop/APPLIED_FINANCE_ANALYTICS/APPLIED_FINANCE_ANALYTICS/common/PortConnect.py:62: UserWarning: The argument 'infer_datetime_format' is deprecated and will be removed in a future version. A strict version of it is now the default, see https://pandas.pydata.org/pdeps/0004-consistent-to-datetime-parsing.html. You can safely remove this argument.\n",
      "  df.set_index = pd.to_datetime(df.index, infer_datetime_format=True)\n",
      "/Users/franciscoruiz/Desktop/APPLIED_FINANCE_ANALYTICS/APPLIED_FINANCE_ANALYTICS/common/PortConnect.py:56: UserWarning: The argument 'infer_datetime_format' is deprecated and will be removed in a future version. A strict version of it is now the default, see https://pandas.pydata.org/pdeps/0004-consistent-to-datetime-parsing.html. You can safely remove this argument.\n",
      "  df['date'] = pd.to_datetime(df['date'],infer_datetime_format=True)\n",
      "/Users/franciscoruiz/Desktop/APPLIED_FINANCE_ANALYTICS/APPLIED_FINANCE_ANALYTICS/common/PortConnect.py:62: UserWarning: The argument 'infer_datetime_format' is deprecated and will be removed in a future version. A strict version of it is now the default, see https://pandas.pydata.org/pdeps/0004-consistent-to-datetime-parsing.html. You can safely remove this argument.\n",
      "  df.set_index = pd.to_datetime(df.index, infer_datetime_format=True)\n",
      "/Users/franciscoruiz/Desktop/APPLIED_FINANCE_ANALYTICS/APPLIED_FINANCE_ANALYTICS/common/PortConnect.py:56: UserWarning: The argument 'infer_datetime_format' is deprecated and will be removed in a future version. A strict version of it is now the default, see https://pandas.pydata.org/pdeps/0004-consistent-to-datetime-parsing.html. You can safely remove this argument.\n",
      "  df['date'] = pd.to_datetime(df['date'],infer_datetime_format=True)\n",
      "/Users/franciscoruiz/Desktop/APPLIED_FINANCE_ANALYTICS/APPLIED_FINANCE_ANALYTICS/common/PortConnect.py:62: UserWarning: The argument 'infer_datetime_format' is deprecated and will be removed in a future version. A strict version of it is now the default, see https://pandas.pydata.org/pdeps/0004-consistent-to-datetime-parsing.html. You can safely remove this argument.\n",
      "  df.set_index = pd.to_datetime(df.index, infer_datetime_format=True)\n",
      "/Users/franciscoruiz/Desktop/APPLIED_FINANCE_ANALYTICS/APPLIED_FINANCE_ANALYTICS/common/PortConnect.py:263: UserWarning: The argument 'infer_datetime_format' is deprecated and will be removed in a future version. A strict version of it is now the default, see https://pandas.pydata.org/pdeps/0004-consistent-to-datetime-parsing.html. You can safely remove this argument.\n",
      "  closing_df.index = pd.to_datetime(closing_df.index, infer_datetime_format=True)\n"
     ]
    },
    {
     "data": {
      "text/html": [
       "<div>\n",
       "<style scoped>\n",
       "    .dataframe tbody tr th:only-of-type {\n",
       "        vertical-align: middle;\n",
       "    }\n",
       "\n",
       "    .dataframe tbody tr th {\n",
       "        vertical-align: top;\n",
       "    }\n",
       "\n",
       "    .dataframe thead th {\n",
       "        text-align: right;\n",
       "    }\n",
       "</style>\n",
       "<table border=\"1\" class=\"dataframe\">\n",
       "  <thead>\n",
       "    <tr style=\"text-align: right;\">\n",
       "      <th>symbol</th>\n",
       "      <th>AAPL</th>\n",
       "      <th>AGNC</th>\n",
       "      <th>AMZN</th>\n",
       "      <th>FB</th>\n",
       "      <th>KO</th>\n",
       "      <th>MSFT</th>\n",
       "      <th>NVDA</th>\n",
       "      <th>O</th>\n",
       "    </tr>\n",
       "    <tr>\n",
       "      <th>date</th>\n",
       "      <th></th>\n",
       "      <th></th>\n",
       "      <th></th>\n",
       "      <th></th>\n",
       "      <th></th>\n",
       "      <th></th>\n",
       "      <th></th>\n",
       "      <th></th>\n",
       "    </tr>\n",
       "  </thead>\n",
       "  <tbody>\n",
       "    <tr>\n",
       "      <th>2016-06-10</th>\n",
       "      <td>24.71</td>\n",
       "      <td>18.89</td>\n",
       "      <td>35.90</td>\n",
       "      <td>116.62</td>\n",
       "      <td>45.99</td>\n",
       "      <td>51.48</td>\n",
       "      <td>1.1600</td>\n",
       "      <td>62.27</td>\n",
       "    </tr>\n",
       "    <tr>\n",
       "      <th>2011-09-26</th>\n",
       "      <td>14.40</td>\n",
       "      <td>27.57</td>\n",
       "      <td>11.49</td>\n",
       "      <td>NaN</td>\n",
       "      <td>34.38</td>\n",
       "      <td>25.44</td>\n",
       "      <td>0.3455</td>\n",
       "      <td>32.75</td>\n",
       "    </tr>\n",
       "  </tbody>\n",
       "</table>\n",
       "</div>"
      ],
      "text/plain": [
       "symbol       AAPL   AGNC   AMZN      FB     KO   MSFT    NVDA      O\n",
       "date                                                                \n",
       "2016-06-10  24.71  18.89  35.90  116.62  45.99  51.48  1.1600  62.27\n",
       "2011-09-26  14.40  27.57  11.49     NaN  34.38  25.44  0.3455  32.75"
      ]
     },
     "execution_count": 134,
     "metadata": {},
     "output_type": "execute_result"
    }
   ],
   "source": [
    "prices = port.get_closing_prices(['MSFT','AAPL','KO','AMZN','O','AGNC','NVDA','FB'])\n",
    "prices = prices[prices.index > '2000-01-01']\n",
    "prices.sample(2)"
   ]
  },
  {
   "cell_type": "code",
   "execution_count": 135,
   "metadata": {},
   "outputs": [
    {
     "name": "stderr",
     "output_type": "stream",
     "text": [
      "/var/folders/01/l5vdw9pj3n7b0sg_9lmyyzbh0000gn/T/ipykernel_2504/3249739102.py:1: FutureWarning: The default fill_method='pad' in DataFrame.pct_change is deprecated and will be removed in a future version. Either fill in any non-leading NA values prior to calling pct_change or specify 'fill_method=None' to not fill NA values.\n",
      "  rets = prices.pct_change()\n"
     ]
    },
    {
     "data": {
      "text/html": [
       "<div>\n",
       "<style scoped>\n",
       "    .dataframe tbody tr th:only-of-type {\n",
       "        vertical-align: middle;\n",
       "    }\n",
       "\n",
       "    .dataframe tbody tr th {\n",
       "        vertical-align: top;\n",
       "    }\n",
       "\n",
       "    .dataframe thead th {\n",
       "        text-align: right;\n",
       "    }\n",
       "</style>\n",
       "<table border=\"1\" class=\"dataframe\">\n",
       "  <thead>\n",
       "    <tr style=\"text-align: right;\">\n",
       "      <th>symbol</th>\n",
       "      <th>AAPL</th>\n",
       "      <th>AGNC</th>\n",
       "      <th>AMZN</th>\n",
       "      <th>FB</th>\n",
       "      <th>KO</th>\n",
       "      <th>MSFT</th>\n",
       "      <th>NVDA</th>\n",
       "      <th>O</th>\n",
       "    </tr>\n",
       "    <tr>\n",
       "      <th>symbol</th>\n",
       "      <th></th>\n",
       "      <th></th>\n",
       "      <th></th>\n",
       "      <th></th>\n",
       "      <th></th>\n",
       "      <th></th>\n",
       "      <th></th>\n",
       "      <th></th>\n",
       "    </tr>\n",
       "  </thead>\n",
       "  <tbody>\n",
       "    <tr>\n",
       "      <th>AAPL</th>\n",
       "      <td>0.149758</td>\n",
       "      <td>0.025622</td>\n",
       "      <td>0.070478</td>\n",
       "      <td>0.036089</td>\n",
       "      <td>0.018376</td>\n",
       "      <td>0.055954</td>\n",
       "      <td>0.096179</td>\n",
       "      <td>0.030306</td>\n",
       "    </tr>\n",
       "    <tr>\n",
       "      <th>AGNC</th>\n",
       "      <td>0.025622</td>\n",
       "      <td>0.074883</td>\n",
       "      <td>0.025322</td>\n",
       "      <td>0.012450</td>\n",
       "      <td>0.016389</td>\n",
       "      <td>0.023271</td>\n",
       "      <td>0.035041</td>\n",
       "      <td>0.040621</td>\n",
       "    </tr>\n",
       "    <tr>\n",
       "      <th>AMZN</th>\n",
       "      <td>0.070478</td>\n",
       "      <td>0.025322</td>\n",
       "      <td>0.242389</td>\n",
       "      <td>0.044673</td>\n",
       "      <td>0.015699</td>\n",
       "      <td>0.065795</td>\n",
       "      <td>0.104444</td>\n",
       "      <td>0.033551</td>\n",
       "    </tr>\n",
       "    <tr>\n",
       "      <th>FB</th>\n",
       "      <td>0.036089</td>\n",
       "      <td>0.012450</td>\n",
       "      <td>0.044673</td>\n",
       "      <td>0.116363</td>\n",
       "      <td>0.010675</td>\n",
       "      <td>0.034770</td>\n",
       "      <td>0.052346</td>\n",
       "      <td>0.017197</td>\n",
       "    </tr>\n",
       "    <tr>\n",
       "      <th>KO</th>\n",
       "      <td>0.018376</td>\n",
       "      <td>0.016389</td>\n",
       "      <td>0.015699</td>\n",
       "      <td>0.010675</td>\n",
       "      <td>0.042061</td>\n",
       "      <td>0.020108</td>\n",
       "      <td>0.015944</td>\n",
       "      <td>0.021101</td>\n",
       "    </tr>\n",
       "    <tr>\n",
       "      <th>MSFT</th>\n",
       "      <td>0.055954</td>\n",
       "      <td>0.023271</td>\n",
       "      <td>0.065795</td>\n",
       "      <td>0.034770</td>\n",
       "      <td>0.020108</td>\n",
       "      <td>0.091321</td>\n",
       "      <td>0.086776</td>\n",
       "      <td>0.030700</td>\n",
       "    </tr>\n",
       "    <tr>\n",
       "      <th>NVDA</th>\n",
       "      <td>0.096179</td>\n",
       "      <td>0.035041</td>\n",
       "      <td>0.104444</td>\n",
       "      <td>0.052346</td>\n",
       "      <td>0.015944</td>\n",
       "      <td>0.086776</td>\n",
       "      <td>0.353803</td>\n",
       "      <td>0.039977</td>\n",
       "    </tr>\n",
       "    <tr>\n",
       "      <th>O</th>\n",
       "      <td>0.030306</td>\n",
       "      <td>0.040621</td>\n",
       "      <td>0.033551</td>\n",
       "      <td>0.017197</td>\n",
       "      <td>0.021101</td>\n",
       "      <td>0.030700</td>\n",
       "      <td>0.039977</td>\n",
       "      <td>0.086220</td>\n",
       "    </tr>\n",
       "  </tbody>\n",
       "</table>\n",
       "</div>"
      ],
      "text/plain": [
       "symbol      AAPL      AGNC      AMZN        FB        KO      MSFT      NVDA  \\\n",
       "symbol                                                                         \n",
       "AAPL    0.149758  0.025622  0.070478  0.036089  0.018376  0.055954  0.096179   \n",
       "AGNC    0.025622  0.074883  0.025322  0.012450  0.016389  0.023271  0.035041   \n",
       "AMZN    0.070478  0.025322  0.242389  0.044673  0.015699  0.065795  0.104444   \n",
       "FB      0.036089  0.012450  0.044673  0.116363  0.010675  0.034770  0.052346   \n",
       "KO      0.018376  0.016389  0.015699  0.010675  0.042061  0.020108  0.015944   \n",
       "MSFT    0.055954  0.023271  0.065795  0.034770  0.020108  0.091321  0.086776   \n",
       "NVDA    0.096179  0.035041  0.104444  0.052346  0.015944  0.086776  0.353803   \n",
       "O       0.030306  0.040621  0.033551  0.017197  0.021101  0.030700  0.039977   \n",
       "\n",
       "symbol         O  \n",
       "symbol            \n",
       "AAPL    0.030306  \n",
       "AGNC    0.040621  \n",
       "AMZN    0.033551  \n",
       "FB      0.017197  \n",
       "KO      0.021101  \n",
       "MSFT    0.030700  \n",
       "NVDA    0.039977  \n",
       "O       0.086220  "
      ]
     },
     "execution_count": 135,
     "metadata": {},
     "output_type": "execute_result"
    }
   ],
   "source": [
    "rets = prices.pct_change()\n",
    "cov_matrix = rets.cov() * 252\n",
    "cov_matrix"
   ]
  },
  {
   "cell_type": "code",
   "execution_count": 136,
   "metadata": {},
   "outputs": [
    {
     "data": {
      "text/plain": [
       "array([0.02568969, 0.19038503, 0.00815447, 0.14518898, 0.5077801 ,\n",
       "       0.06167871, 0.        , 0.06112301])"
      ]
     },
     "execution_count": 136,
     "metadata": {},
     "output_type": "execute_result"
    }
   ],
   "source": [
    "port_stats = Portfolio_Stats()\n",
    "port_stats.gmv(cov_matrix)"
   ]
  },
  {
   "cell_type": "code",
   "execution_count": 137,
   "metadata": {},
   "outputs": [
    {
     "data": {
      "text/html": [
       "<div>\n",
       "<style scoped>\n",
       "    .dataframe tbody tr th:only-of-type {\n",
       "        vertical-align: middle;\n",
       "    }\n",
       "\n",
       "    .dataframe tbody tr th {\n",
       "        vertical-align: top;\n",
       "    }\n",
       "\n",
       "    .dataframe thead th {\n",
       "        text-align: right;\n",
       "    }\n",
       "</style>\n",
       "<table border=\"1\" class=\"dataframe\">\n",
       "  <thead>\n",
       "    <tr style=\"text-align: right;\">\n",
       "      <th>symbol</th>\n",
       "      <th>AAPL</th>\n",
       "      <th>AGNC</th>\n",
       "      <th>AMZN</th>\n",
       "      <th>FB</th>\n",
       "      <th>KO</th>\n",
       "      <th>MSFT</th>\n",
       "      <th>NVDA</th>\n",
       "      <th>O</th>\n",
       "    </tr>\n",
       "    <tr>\n",
       "      <th>date</th>\n",
       "      <th></th>\n",
       "      <th></th>\n",
       "      <th></th>\n",
       "      <th></th>\n",
       "      <th></th>\n",
       "      <th></th>\n",
       "      <th></th>\n",
       "      <th></th>\n",
       "    </tr>\n",
       "  </thead>\n",
       "  <tbody>\n",
       "    <tr>\n",
       "      <th>2000-01-03</th>\n",
       "      <td>NaN</td>\n",
       "      <td>NaN</td>\n",
       "      <td>NaN</td>\n",
       "      <td>NaN</td>\n",
       "      <td>NaN</td>\n",
       "      <td>NaN</td>\n",
       "      <td>NaN</td>\n",
       "      <td>NaN</td>\n",
       "    </tr>\n",
       "    <tr>\n",
       "      <th>2000-01-04</th>\n",
       "      <td>-0.084307</td>\n",
       "      <td>NaN</td>\n",
       "      <td>-0.082774</td>\n",
       "      <td>NaN</td>\n",
       "      <td>-0.008868</td>\n",
       "      <td>-0.033802</td>\n",
       "      <td>-0.026702</td>\n",
       "      <td>-0.011940</td>\n",
       "    </tr>\n",
       "    <tr>\n",
       "      <th>2000-01-05</th>\n",
       "      <td>0.014631</td>\n",
       "      <td>NaN</td>\n",
       "      <td>-0.148780</td>\n",
       "      <td>NaN</td>\n",
       "      <td>0.018969</td>\n",
       "      <td>0.010655</td>\n",
       "      <td>-0.032922</td>\n",
       "      <td>-0.006042</td>\n",
       "    </tr>\n",
       "    <tr>\n",
       "      <th>2000-01-06</th>\n",
       "      <td>-0.086542</td>\n",
       "      <td>NaN</td>\n",
       "      <td>-0.060172</td>\n",
       "      <td>NaN</td>\n",
       "      <td>0.001054</td>\n",
       "      <td>-0.033562</td>\n",
       "      <td>-0.065248</td>\n",
       "      <td>0.012158</td>\n",
       "    </tr>\n",
       "    <tr>\n",
       "      <th>2000-01-07</th>\n",
       "      <td>0.047370</td>\n",
       "      <td>NaN</td>\n",
       "      <td>0.060976</td>\n",
       "      <td>NaN</td>\n",
       "      <td>0.065965</td>\n",
       "      <td>0.013091</td>\n",
       "      <td>0.016692</td>\n",
       "      <td>0.018018</td>\n",
       "    </tr>\n",
       "    <tr>\n",
       "      <th>...</th>\n",
       "      <td>...</td>\n",
       "      <td>...</td>\n",
       "      <td>...</td>\n",
       "      <td>...</td>\n",
       "      <td>...</td>\n",
       "      <td>...</td>\n",
       "      <td>...</td>\n",
       "      <td>...</td>\n",
       "    </tr>\n",
       "    <tr>\n",
       "      <th>2025-03-19</th>\n",
       "      <td>0.011989</td>\n",
       "      <td>-0.002887</td>\n",
       "      <td>0.014106</td>\n",
       "      <td>0.0</td>\n",
       "      <td>-0.001441</td>\n",
       "      <td>0.011212</td>\n",
       "      <td>0.018106</td>\n",
       "      <td>-0.009129</td>\n",
       "    </tr>\n",
       "    <tr>\n",
       "      <th>2025-03-20</th>\n",
       "      <td>-0.005296</td>\n",
       "      <td>-0.006757</td>\n",
       "      <td>-0.003017</td>\n",
       "      <td>0.0</td>\n",
       "      <td>0.006207</td>\n",
       "      <td>-0.002527</td>\n",
       "      <td>0.008594</td>\n",
       "      <td>0.000354</td>\n",
       "    </tr>\n",
       "    <tr>\n",
       "      <th>2025-03-21</th>\n",
       "      <td>0.019477</td>\n",
       "      <td>-0.011662</td>\n",
       "      <td>0.006463</td>\n",
       "      <td>0.0</td>\n",
       "      <td>-0.014919</td>\n",
       "      <td>0.011426</td>\n",
       "      <td>-0.007002</td>\n",
       "      <td>-0.011690</td>\n",
       "    </tr>\n",
       "    <tr>\n",
       "      <th>2025-03-24</th>\n",
       "      <td>0.011270</td>\n",
       "      <td>-0.003933</td>\n",
       "      <td>0.035931</td>\n",
       "      <td>0.0</td>\n",
       "      <td>0.004077</td>\n",
       "      <td>0.004652</td>\n",
       "      <td>0.031521</td>\n",
       "      <td>0.008602</td>\n",
       "    </tr>\n",
       "    <tr>\n",
       "      <th>2025-03-25</th>\n",
       "      <td>0.013682</td>\n",
       "      <td>-0.019743</td>\n",
       "      <td>0.012054</td>\n",
       "      <td>0.0</td>\n",
       "      <td>-0.002030</td>\n",
       "      <td>0.005292</td>\n",
       "      <td>-0.005930</td>\n",
       "      <td>-0.011194</td>\n",
       "    </tr>\n",
       "  </tbody>\n",
       "</table>\n",
       "<p>6345 rows × 8 columns</p>\n",
       "</div>"
      ],
      "text/plain": [
       "symbol          AAPL      AGNC      AMZN   FB        KO      MSFT      NVDA  \\\n",
       "date                                                                          \n",
       "2000-01-03       NaN       NaN       NaN  NaN       NaN       NaN       NaN   \n",
       "2000-01-04 -0.084307       NaN -0.082774  NaN -0.008868 -0.033802 -0.026702   \n",
       "2000-01-05  0.014631       NaN -0.148780  NaN  0.018969  0.010655 -0.032922   \n",
       "2000-01-06 -0.086542       NaN -0.060172  NaN  0.001054 -0.033562 -0.065248   \n",
       "2000-01-07  0.047370       NaN  0.060976  NaN  0.065965  0.013091  0.016692   \n",
       "...              ...       ...       ...  ...       ...       ...       ...   \n",
       "2025-03-19  0.011989 -0.002887  0.014106  0.0 -0.001441  0.011212  0.018106   \n",
       "2025-03-20 -0.005296 -0.006757 -0.003017  0.0  0.006207 -0.002527  0.008594   \n",
       "2025-03-21  0.019477 -0.011662  0.006463  0.0 -0.014919  0.011426 -0.007002   \n",
       "2025-03-24  0.011270 -0.003933  0.035931  0.0  0.004077  0.004652  0.031521   \n",
       "2025-03-25  0.013682 -0.019743  0.012054  0.0 -0.002030  0.005292 -0.005930   \n",
       "\n",
       "symbol             O  \n",
       "date                  \n",
       "2000-01-03       NaN  \n",
       "2000-01-04 -0.011940  \n",
       "2000-01-05 -0.006042  \n",
       "2000-01-06  0.012158  \n",
       "2000-01-07  0.018018  \n",
       "...              ...  \n",
       "2025-03-19 -0.009129  \n",
       "2025-03-20  0.000354  \n",
       "2025-03-21 -0.011690  \n",
       "2025-03-24  0.008602  \n",
       "2025-03-25 -0.011194  \n",
       "\n",
       "[6345 rows x 8 columns]"
      ]
     },
     "execution_count": 137,
     "metadata": {},
     "output_type": "execute_result"
    }
   ],
   "source": [
    "rets"
   ]
  },
  {
   "cell_type": "code",
   "execution_count": 138,
   "metadata": {},
   "outputs": [
    {
     "data": {
      "text/plain": [
       "symbol\n",
       "AAPL    0.239748\n",
       "AGNC   -0.026148\n",
       "AMZN    0.164250\n",
       "FB      0.067206\n",
       "KO      0.036078\n",
       "MSFT    0.078982\n",
       "NVDA    0.326859\n",
       "O       0.070338\n",
       "dtype: float64"
      ]
     },
     "execution_count": 138,
     "metadata": {},
     "output_type": "execute_result"
    }
   ],
   "source": [
    "port_rets = port_stats.annualize_rets(rets,252)\n",
    "port_rets"
   ]
  },
  {
   "cell_type": "code",
   "execution_count": 139,
   "metadata": {},
   "outputs": [
    {
     "data": {
      "text/html": [
       "<div>\n",
       "<style scoped>\n",
       "    .dataframe tbody tr th:only-of-type {\n",
       "        vertical-align: middle;\n",
       "    }\n",
       "\n",
       "    .dataframe tbody tr th {\n",
       "        vertical-align: top;\n",
       "    }\n",
       "\n",
       "    .dataframe thead th {\n",
       "        text-align: right;\n",
       "    }\n",
       "</style>\n",
       "<table border=\"1\" class=\"dataframe\">\n",
       "  <thead>\n",
       "    <tr style=\"text-align: right;\">\n",
       "      <th>symbol</th>\n",
       "      <th>AAPL</th>\n",
       "      <th>AGNC</th>\n",
       "      <th>AMZN</th>\n",
       "      <th>FB</th>\n",
       "      <th>KO</th>\n",
       "      <th>MSFT</th>\n",
       "      <th>NVDA</th>\n",
       "      <th>O</th>\n",
       "    </tr>\n",
       "    <tr>\n",
       "      <th>symbol</th>\n",
       "      <th></th>\n",
       "      <th></th>\n",
       "      <th></th>\n",
       "      <th></th>\n",
       "      <th></th>\n",
       "      <th></th>\n",
       "      <th></th>\n",
       "      <th></th>\n",
       "    </tr>\n",
       "  </thead>\n",
       "  <tbody>\n",
       "    <tr>\n",
       "      <th>AAPL</th>\n",
       "      <td>0.149758</td>\n",
       "      <td>0.025622</td>\n",
       "      <td>0.070478</td>\n",
       "      <td>0.036089</td>\n",
       "      <td>0.018376</td>\n",
       "      <td>0.055954</td>\n",
       "      <td>0.096179</td>\n",
       "      <td>0.030306</td>\n",
       "    </tr>\n",
       "    <tr>\n",
       "      <th>AGNC</th>\n",
       "      <td>0.025622</td>\n",
       "      <td>0.074883</td>\n",
       "      <td>0.025322</td>\n",
       "      <td>0.012450</td>\n",
       "      <td>0.016389</td>\n",
       "      <td>0.023271</td>\n",
       "      <td>0.035041</td>\n",
       "      <td>0.040621</td>\n",
       "    </tr>\n",
       "    <tr>\n",
       "      <th>AMZN</th>\n",
       "      <td>0.070478</td>\n",
       "      <td>0.025322</td>\n",
       "      <td>0.242389</td>\n",
       "      <td>0.044673</td>\n",
       "      <td>0.015699</td>\n",
       "      <td>0.065795</td>\n",
       "      <td>0.104444</td>\n",
       "      <td>0.033551</td>\n",
       "    </tr>\n",
       "    <tr>\n",
       "      <th>FB</th>\n",
       "      <td>0.036089</td>\n",
       "      <td>0.012450</td>\n",
       "      <td>0.044673</td>\n",
       "      <td>0.116363</td>\n",
       "      <td>0.010675</td>\n",
       "      <td>0.034770</td>\n",
       "      <td>0.052346</td>\n",
       "      <td>0.017197</td>\n",
       "    </tr>\n",
       "    <tr>\n",
       "      <th>KO</th>\n",
       "      <td>0.018376</td>\n",
       "      <td>0.016389</td>\n",
       "      <td>0.015699</td>\n",
       "      <td>0.010675</td>\n",
       "      <td>0.042061</td>\n",
       "      <td>0.020108</td>\n",
       "      <td>0.015944</td>\n",
       "      <td>0.021101</td>\n",
       "    </tr>\n",
       "    <tr>\n",
       "      <th>MSFT</th>\n",
       "      <td>0.055954</td>\n",
       "      <td>0.023271</td>\n",
       "      <td>0.065795</td>\n",
       "      <td>0.034770</td>\n",
       "      <td>0.020108</td>\n",
       "      <td>0.091321</td>\n",
       "      <td>0.086776</td>\n",
       "      <td>0.030700</td>\n",
       "    </tr>\n",
       "    <tr>\n",
       "      <th>NVDA</th>\n",
       "      <td>0.096179</td>\n",
       "      <td>0.035041</td>\n",
       "      <td>0.104444</td>\n",
       "      <td>0.052346</td>\n",
       "      <td>0.015944</td>\n",
       "      <td>0.086776</td>\n",
       "      <td>0.353803</td>\n",
       "      <td>0.039977</td>\n",
       "    </tr>\n",
       "    <tr>\n",
       "      <th>O</th>\n",
       "      <td>0.030306</td>\n",
       "      <td>0.040621</td>\n",
       "      <td>0.033551</td>\n",
       "      <td>0.017197</td>\n",
       "      <td>0.021101</td>\n",
       "      <td>0.030700</td>\n",
       "      <td>0.039977</td>\n",
       "      <td>0.086220</td>\n",
       "    </tr>\n",
       "  </tbody>\n",
       "</table>\n",
       "</div>"
      ],
      "text/plain": [
       "symbol      AAPL      AGNC      AMZN        FB        KO      MSFT      NVDA  \\\n",
       "symbol                                                                         \n",
       "AAPL    0.149758  0.025622  0.070478  0.036089  0.018376  0.055954  0.096179   \n",
       "AGNC    0.025622  0.074883  0.025322  0.012450  0.016389  0.023271  0.035041   \n",
       "AMZN    0.070478  0.025322  0.242389  0.044673  0.015699  0.065795  0.104444   \n",
       "FB      0.036089  0.012450  0.044673  0.116363  0.010675  0.034770  0.052346   \n",
       "KO      0.018376  0.016389  0.015699  0.010675  0.042061  0.020108  0.015944   \n",
       "MSFT    0.055954  0.023271  0.065795  0.034770  0.020108  0.091321  0.086776   \n",
       "NVDA    0.096179  0.035041  0.104444  0.052346  0.015944  0.086776  0.353803   \n",
       "O       0.030306  0.040621  0.033551  0.017197  0.021101  0.030700  0.039977   \n",
       "\n",
       "symbol         O  \n",
       "symbol            \n",
       "AAPL    0.030306  \n",
       "AGNC    0.040621  \n",
       "AMZN    0.033551  \n",
       "FB      0.017197  \n",
       "KO      0.021101  \n",
       "MSFT    0.030700  \n",
       "NVDA    0.039977  \n",
       "O       0.086220  "
      ]
     },
     "execution_count": 139,
     "metadata": {},
     "output_type": "execute_result"
    }
   ],
   "source": [
    "rets.cov() * 252"
   ]
  },
  {
   "cell_type": "code",
   "execution_count": 140,
   "metadata": {},
   "outputs": [
    {
     "name": "stdout",
     "output_type": "stream",
     "text": [
      "[0.02568969 0.19038503 0.00815447 0.14518898 0.5077801  0.06167871\n",
      " 0.         0.06112301]\n",
      "0.039768094111221515\n",
      "0.17077420711200042\n"
     ]
    }
   ],
   "source": [
    "### Minimum covariance matrix\n",
    "returns = port_stats.annualize_rets(rets,252)\n",
    "minimum_variance_weights = port_stats.gmv(cov_matrix)\n",
    "print(minimum_variance_weights)\n",
    "portfolio_return = port_stats.portfolio_return(minimum_variance_weights,returns)\n",
    "portfolio_vol = port_stats.portfolio_vol(minimum_variance_weights,cov_matrix)\n",
    "print(portfolio_return)\n",
    "print(portfolio_vol)"
   ]
  },
  {
   "cell_type": "code",
   "execution_count": 141,
   "metadata": {},
   "outputs": [
    {
     "name": "stdout",
     "output_type": "stream",
     "text": [
      "[0.64738 0.      0.00762 0.      0.      0.      0.34501 0.     ]\n",
      "0.2692270060414379\n",
      "0.38613077254395495\n"
     ]
    }
   ],
   "source": [
    "### Maximize Sharp Ratio\n",
    "returns = port_stats.annualize_rets(rets,252)\n",
    "maximum_sharpe_weights = port_stats.msr(0.03,returns,cov_matrix)\n",
    "print(np.round(maximum_sharpe_weights,5))\n",
    "portfolio_return = port_stats.portfolio_return(maximum_sharpe_weights,returns)\n",
    "portfolio_vol = port_stats.portfolio_vol(maximum_sharpe_weights,cov_matrix)\n",
    "print(portfolio_return)\n",
    "print(portfolio_vol)"
   ]
  },
  {
   "cell_type": "code",
   "execution_count": 144,
   "metadata": {},
   "outputs": [
    {
     "data": {
      "text/plain": [
       "<Axes: xlabel='Volatility'>"
      ]
     },
     "execution_count": 144,
     "metadata": {},
     "output_type": "execute_result"
    },
    {
     "data": {
      "image/png": "[encoded data removed]",
      "text/plain": [
       "<Figure size 640x480 with 1 Axes>"
      ]
     },
     "metadata": {},
     "output_type": "display_data"
    }
   ],
   "source": [
    "port_stats.plot_ef(10,returns,cov_matrix,show_ew=True, show_gmv=True,show_cml=True,riskfree_rate=0.05,legend=True)"
   ]
  },
  {
   "cell_type": "markdown",
   "metadata": {},
   "source": [
    "# Black-Litterman Model\n",
    "### Use the BL Model to better forecast asset returns and asset allocations"
   ]
  },
  {
   "cell_type": "code",
   "execution_count": null,
   "metadata": {},
   "outputs": [],
   "source": []
  }
 ],
 "metadata": {
  "kernelspec": {
   "display_name": "APPLIED_ANALYTICS_FINANCE",
   "language": "python",
   "name": "python3"
  },
  "language_info": {
   "codemirror_mode": {
    "name": "ipython",
    "version": 3
   },
   "file_extension": ".py",
   "mimetype": "text/x-python",
   "name": "python",
   "nbconvert_exporter": "python",
   "pygments_lexer": "ipython3",
   "version": "3.12.9"
  }
 },
 "nbformat": 4,
 "nbformat_minor": 2
}
