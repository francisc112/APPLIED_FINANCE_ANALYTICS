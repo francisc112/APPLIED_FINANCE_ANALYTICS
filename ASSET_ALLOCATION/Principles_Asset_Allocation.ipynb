{
 "cells": [
  {
   "cell_type": "code",
   "execution_count": null,
   "metadata": {},
   "outputs": [],
   "source": []
  },
  {
   "cell_type": "code",
   "execution_count": 1,
   "metadata": {},
   "outputs": [],
   "source": [
    "import pandas as pd\n",
    "import numpy as np\n",
    "import os\n",
    "import sys\n",
    "import dotenv\n",
    "from dotenv import load_dotenv"
   ]
  },
  {
   "cell_type": "code",
   "execution_count": 23,
   "metadata": {},
   "outputs": [],
   "source": [
    "import sys\n",
    "# Go one level up to the project root\n",
    "parent_dir = os.path.abspath('..')\n",
    "if parent_dir not in sys.path:\n",
    "    sys.path.append(parent_dir)\n",
    "\n",
    "from common.PortConnect import Port_Connect\n",
    "from common.Portfolio import Portfolio_Stats"
   ]
  },
  {
   "cell_type": "markdown",
   "metadata": {},
   "source": [
    "# Use the portfolio connector to retrieve prices"
   ]
  },
  {
   "cell_type": "code",
   "execution_count": 7,
   "metadata": {},
   "outputs": [],
   "source": [
    "fmp_key = os.getenv(\"API_KEY\")"
   ]
  },
  {
   "cell_type": "code",
   "execution_count": 16,
   "metadata": {},
   "outputs": [],
   "source": [
    "port = Port_Connect(api_key=fmp_key)\n",
    "portfolio = Portfolio_Stats()"
   ]
  },
  {
   "cell_type": "markdown",
   "metadata": {},
   "source": [
    "# Asset-Only Asset Allocations and Mean–Variance Optimization"
   ]
  },
  {
   "cell_type": "markdown",
   "metadata": {},
   "source": [
    "## Calculate the investor's utility function for the asset mix\n",
    "\n",
    "This is a formula that calculates the expected return for the investor, as a function of the expected return and an inverse relationship of the investor's risk aversion and variance return\n",
    "\n",
    "Lets use the S&P 500 for this calculation"
   ]
  },
  {
   "cell_type": "code",
   "execution_count": 10,
   "metadata": {},
   "outputs": [
    {
     "name": "stderr",
     "output_type": "stream",
     "text": [
      "/Users/franciscoruiz/Desktop/APPLIED_FINANCE_ANALYTICS/APPLIED_FINANCE_ANALYTICS/common/PortConnect.py:56: UserWarning: The argument 'infer_datetime_format' is deprecated and will be removed in a future version. A strict version of it is now the default, see https://pandas.pydata.org/pdeps/0004-consistent-to-datetime-parsing.html. You can safely remove this argument.\n",
      "  df['date'] = pd.to_datetime(df['date'],infer_datetime_format=True)\n",
      "/Users/franciscoruiz/Desktop/APPLIED_FINANCE_ANALYTICS/APPLIED_FINANCE_ANALYTICS/common/PortConnect.py:62: UserWarning: The argument 'infer_datetime_format' is deprecated and will be removed in a future version. A strict version of it is now the default, see https://pandas.pydata.org/pdeps/0004-consistent-to-datetime-parsing.html. You can safely remove this argument.\n",
      "  df.set_index = pd.to_datetime(df.index, infer_datetime_format=True)\n",
      "/Users/franciscoruiz/Desktop/APPLIED_FINANCE_ANALYTICS/APPLIED_FINANCE_ANALYTICS/common/PortConnect.py:250: UserWarning: The argument 'infer_datetime_format' is deprecated and will be removed in a future version. A strict version of it is now the default, see https://pandas.pydata.org/pdeps/0004-consistent-to-datetime-parsing.html. You can safely remove this argument.\n",
      "  closing_df.index = pd.to_datetime(closing_df.index, infer_datetime_format=True)\n"
     ]
    },
    {
     "data": {
      "text/html": [
       "<div>\n",
       "<style scoped>\n",
       "    .dataframe tbody tr th:only-of-type {\n",
       "        vertical-align: middle;\n",
       "    }\n",
       "\n",
       "    .dataframe tbody tr th {\n",
       "        vertical-align: top;\n",
       "    }\n",
       "\n",
       "    .dataframe thead th {\n",
       "        text-align: right;\n",
       "    }\n",
       "</style>\n",
       "<table border=\"1\" class=\"dataframe\">\n",
       "  <thead>\n",
       "    <tr style=\"text-align: right;\">\n",
       "      <th>symbol</th>\n",
       "      <th>SPY</th>\n",
       "    </tr>\n",
       "    <tr>\n",
       "      <th>date</th>\n",
       "      <th></th>\n",
       "    </tr>\n",
       "  </thead>\n",
       "  <tbody>\n",
       "    <tr>\n",
       "      <th>2003-11-10</th>\n",
       "      <td>105.18</td>\n",
       "    </tr>\n",
       "    <tr>\n",
       "      <th>2002-02-11</th>\n",
       "      <td>111.44</td>\n",
       "    </tr>\n",
       "    <tr>\n",
       "      <th>2022-06-08</th>\n",
       "      <td>411.22</td>\n",
       "    </tr>\n",
       "  </tbody>\n",
       "</table>\n",
       "</div>"
      ],
      "text/plain": [
       "symbol         SPY\n",
       "date              \n",
       "2003-11-10  105.18\n",
       "2002-02-11  111.44\n",
       "2022-06-08  411.22"
      ]
     },
     "execution_count": 10,
     "metadata": {},
     "output_type": "execute_result"
    }
   ],
   "source": [
    "spy = port.get_closing_prices('SPY')\n",
    "spy.sample(3)"
   ]
  },
  {
   "cell_type": "markdown",
   "metadata": {},
   "source": [
    "Calculate the percentage change of the daily closing prices"
   ]
  },
  {
   "cell_type": "code",
   "execution_count": 11,
   "metadata": {},
   "outputs": [
    {
     "data": {
      "text/html": [
       "<div>\n",
       "<style scoped>\n",
       "    .dataframe tbody tr th:only-of-type {\n",
       "        vertical-align: middle;\n",
       "    }\n",
       "\n",
       "    .dataframe tbody tr th {\n",
       "        vertical-align: top;\n",
       "    }\n",
       "\n",
       "    .dataframe thead th {\n",
       "        text-align: right;\n",
       "    }\n",
       "</style>\n",
       "<table border=\"1\" class=\"dataframe\">\n",
       "  <thead>\n",
       "    <tr style=\"text-align: right;\">\n",
       "      <th>symbol</th>\n",
       "      <th>SPY</th>\n",
       "      <th>Change</th>\n",
       "    </tr>\n",
       "    <tr>\n",
       "      <th>date</th>\n",
       "      <th></th>\n",
       "      <th></th>\n",
       "    </tr>\n",
       "  </thead>\n",
       "  <tbody>\n",
       "    <tr>\n",
       "      <th>2025-03-20</th>\n",
       "      <td>565.49</td>\n",
       "      <td>-0.002892</td>\n",
       "    </tr>\n",
       "    <tr>\n",
       "      <th>2025-03-21</th>\n",
       "      <td>563.98</td>\n",
       "      <td>-0.002670</td>\n",
       "    </tr>\n",
       "    <tr>\n",
       "      <th>2025-03-24</th>\n",
       "      <td>574.08</td>\n",
       "      <td>0.017908</td>\n",
       "    </tr>\n",
       "  </tbody>\n",
       "</table>\n",
       "</div>"
      ],
      "text/plain": [
       "symbol         SPY    Change\n",
       "date                        \n",
       "2025-03-20  565.49 -0.002892\n",
       "2025-03-21  563.98 -0.002670\n",
       "2025-03-24  574.08  0.017908"
      ]
     },
     "execution_count": 11,
     "metadata": {},
     "output_type": "execute_result"
    }
   ],
   "source": [
    "spy['Change']  = spy['SPY'].pct_change()\n",
    "spy.tail(3)"
   ]
  },
  {
   "cell_type": "markdown",
   "metadata": {},
   "source": [
    "What is the range of the data?"
   ]
  },
  {
   "cell_type": "code",
   "execution_count": 13,
   "metadata": {},
   "outputs": [
    {
     "name": "stdout",
     "output_type": "stream",
     "text": [
      "The first date is  1993-01-29 00:00:00\n",
      "The last date is  2025-03-24 00:00:00\n"
     ]
    }
   ],
   "source": [
    "print(\"The first date is \",spy.index[0])\n",
    "print(\"The last date is \",spy.index[-1])"
   ]
  },
  {
   "cell_type": "markdown",
   "metadata": {},
   "source": [
    "Now, let's calculate the mean return and variance of the whole series"
   ]
  },
  {
   "cell_type": "code",
   "execution_count": 30,
   "metadata": {},
   "outputs": [
    {
     "name": "stdout",
     "output_type": "stream",
     "text": [
      "Mean return is  8.331\n",
      "Mean Variance is  3.465\n"
     ]
    }
   ],
   "source": [
    "mean_return = portfolio.annualize_rets(spy['Change'],252)\n",
    "mean_vol = spy['Change'].var() * 252\n",
    "\n",
    "print('Mean return is ',np.round(mean_return,5) * 100)\n",
    "print('Mean Variance is ',np.round(mean_vol,5) * 100)"
   ]
  },
  {
   "cell_type": "markdown",
   "metadata": {},
   "source": [
    "Lets calculate the investors utility of the SPY\n",
    "\n",
    "$$\n",
    "U_m = E(R_m) - 0.5 \\lambda \\sigma_m^2\n",
    "$$\n",
    "\n",
    "$U_m$ = the investor’s utility for asset mix (allocation) m\n",
    "\n",
    "$E(R_m)$  = the return for asset mix m\n",
    "\n",
    "$ \\lambda $ = the investor’s risk aversion coefficient\n",
    "\n",
    "$ \\sigma_m^2 $ = the expected variance of return for asset mix m"
   ]
  },
  {
   "cell_type": "markdown",
   "metadata": {},
   "source": [
    "so lets assume that the risk aversion coefficient for an investor is 2 (Risk tolerant investor)"
   ]
  },
  {
   "cell_type": "code",
   "execution_count": 34,
   "metadata": {},
   "outputs": [
    {
     "name": "stdout",
     "output_type": "stream",
     "text": [
      "The investors utility is  4.87\n"
     ]
    }
   ],
   "source": [
    "ret = mean_return\n",
    "vol = mean_vol\n",
    "risk_coefficient = 2\n",
    "\n",
    "investor_utility = ret - 0.5*risk_coefficient*vol\n",
    "print('The investors utility is ',np.round(investor_utility,4) * 100)"
   ]
  },
  {
   "cell_type": "markdown",
   "metadata": {},
   "source": [
    "so, what does it mean that the investor's utility is 4.87%? \n",
    "\n",
    "The 4.87% can be interpreted as the certainty equivalent return—the guaranteed return the investor would consider equally desirable as the risky investment. Despite the potential for higher returns with risk, the risk penalty “lowers” the effective return to 4.87% given the investor’s risk preferences.\n",
    "\n"
   ]
  },
  {
   "cell_type": "markdown",
   "metadata": {},
   "source": [
    "## Use Monte Carlo Simulation in order to analyze a portfolio for retirement\n",
    "\n",
    "The client has 1M USD as his initial portfolio, wants to withdraw 5OK USD per year and expects to live 25 years more. He wants to live his children the same 1M USD in real terms (inflation of 2.6% annually)\n",
    "\n",
    "Assuming a return of 8.5% and a volatility of 18%, what is the probability of achieving the desired goal?"
   ]
  },
  {
   "cell_type": "code",
   "execution_count": 51,
   "metadata": {},
   "outputs": [
    {
     "data": {
      "image/png": "[encoded data removed]",
      "text/plain": [
       "<Figure size 1000x600 with 1 Axes>"
      ]
     },
     "metadata": {},
     "output_type": "display_data"
    },
    {
     "name": "stdout",
     "output_type": "stream",
     "text": [
      "Median Real Portfolio Value at end of 25 years: USD$ 1064502.72\n"
     ]
    }
   ],
   "source": [
    "import numpy as np\n",
    "import matplotlib.pyplot as plt\n",
    "\n",
    "# Parameters\n",
    "initial_portfolio = 1_000_000     # Initial portfolio value in USD$\n",
    "withdrawal = 50_000               # Annual withdrawal in USD$\n",
    "years = 25                      # Retirement period (years)\n",
    "n_simulations = 10000           # Number of Monte Carlo simulation runs\n",
    "\n",
    "# Capital market expectations for the portfolio (nominal values)\n",
    "nominal_return_mean = 0.085     # 7.5% expected nominal return per year\n",
    "nominal_return_std = 0.18       # 11% standard deviation of nominal returns\n",
    "inflation = 0.026               # 2.6% annual inflation\n",
    "\n",
    "# Create an array to hold the portfolio values for each simulation over time.\n",
    "# We include year 0 (the starting portfolio) and then one value per year.\n",
    "portfolio_sim = np.zeros((n_simulations, years + 1))\n",
    "portfolio_sim[:, 0] = initial_portfolio\n",
    "\n",
    "# Run the Monte Carlo simulation for each simulation path\n",
    "for sim in range(n_simulations):\n",
    "    portfolio = initial_portfolio\n",
    "    for year in range(1, years + 1):\n",
    "        # Draw a random nominal return for the year from a normal distribution.\n",
    "        r = np.random.normal(nominal_return_mean, nominal_return_std)\n",
    "        # Update the portfolio: grow by the nominal return, then withdraw the fixed amount.\n",
    "        portfolio = portfolio * (1 + r) - withdrawal\n",
    "        portfolio_sim[sim, year] = portfolio\n",
    "\n",
    "# Discount nominal portfolio values to real terms by adjusting for inflation.\n",
    "# Create an array of discount factors: (1 + inflation) ** year\n",
    "years_array = np.arange(years + 1)\n",
    "discount_factors = (1 + inflation) ** years_array\n",
    "\n",
    "# Divide each year's nominal value by the corresponding discount factor.\n",
    "portfolio_sim_real = portfolio_sim / discount_factors[np.newaxis, :]\n",
    "\n",
    "# Compute selected percentiles (10th, 25th, 50th, 75th, and 90th) across all simulations for each year.\n",
    "percentiles = [10, 25, 50, 75, 90]\n",
    "portfolio_percentiles = np.percentile(portfolio_sim_real, percentiles, axis=0)\n",
    "\n",
    "# Plot the percentile paths over time.\n",
    "plt.figure(figsize=(10, 6))\n",
    "for i, perc in enumerate(percentiles):\n",
    "    plt.plot(years_array, portfolio_percentiles[i, :], label=f\"{perc}th percentile\")\n",
    "plt.xlabel(\"Year\")\n",
    "plt.ylabel(\"Real Portfolio Value (USD$)\")\n",
    "plt.title(\"Monte Carlo Simulation: Real Portfolio Value Over 25 Years\")\n",
    "plt.legend()\n",
    "plt.grid(True)\n",
    "plt.show()\n",
    "\n",
    "# Print the median (50th percentile) real portfolio value at the end of 25 years.\n",
    "median_bequest = np.median(portfolio_sim_real[:, -1])\n",
    "print(\"Median Real Portfolio Value at end of 25 years: USD$\", round(median_bequest, 2))\n"
   ]
  },
  {
   "cell_type": "code",
   "execution_count": null,
   "metadata": {},
   "outputs": [],
   "source": []
  }
 ],
 "metadata": {
  "kernelspec": {
   "display_name": "APPLIED_ANALYTICS_FINANCE",
   "language": "python",
   "name": "python3"
  },
  "language_info": {
   "codemirror_mode": {
    "name": "ipython",
    "version": 3
   },
   "file_extension": ".py",
   "mimetype": "text/x-python",
   "name": "python",
   "nbconvert_exporter": "python",
   "pygments_lexer": "ipython3",
   "version": "3.12.9"
  }
 },
 "nbformat": 4,
 "nbformat_minor": 2
}
