{
 "cells": [
  {
   "cell_type": "code",
   "execution_count": null,
   "metadata": {},
   "outputs": [],
   "source": []
  },
  {
   "cell_type": "code",
   "execution_count": 43,
   "metadata": {},
   "outputs": [],
   "source": [
    "import pandas as pd\n",
    "import numpy as np\n",
    "import os\n",
    "import dotenv\n",
    "from dotenv import load_dotenv\n",
    "from common.PortConnect import Port_Connect"
   ]
  },
  {
   "cell_type": "code",
   "execution_count": 44,
   "metadata": {},
   "outputs": [
    {
     "name": "stderr",
     "output_type": "stream",
     "text": [
      "/Users/franciscoruiz/Desktop/APPLIED_FINANCE_ANALYTICS/APPLIED_FINANCE_ANALYTICS/common/PortConnect.py:56: UserWarning: The argument 'infer_datetime_format' is deprecated and will be removed in a future version. A strict version of it is now the default, see https://pandas.pydata.org/pdeps/0004-consistent-to-datetime-parsing.html. You can safely remove this argument.\n",
      "  df['date'] = pd.to_datetime(df['date'],infer_datetime_format=True)\n",
      "/Users/franciscoruiz/Desktop/APPLIED_FINANCE_ANALYTICS/APPLIED_FINANCE_ANALYTICS/common/PortConnect.py:62: UserWarning: The argument 'infer_datetime_format' is deprecated and will be removed in a future version. A strict version of it is now the default, see https://pandas.pydata.org/pdeps/0004-consistent-to-datetime-parsing.html. You can safely remove this argument.\n",
      "  df.set_index = pd.to_datetime(df.index, infer_datetime_format=True)\n"
     ]
    },
    {
     "data": {
      "text/html": [
       "<div>\n",
       "<style scoped>\n",
       "    .dataframe tbody tr th:only-of-type {\n",
       "        vertical-align: middle;\n",
       "    }\n",
       "\n",
       "    .dataframe tbody tr th {\n",
       "        vertical-align: top;\n",
       "    }\n",
       "\n",
       "    .dataframe thead th {\n",
       "        text-align: right;\n",
       "    }\n",
       "</style>\n",
       "<table border=\"1\" class=\"dataframe\">\n",
       "  <thead>\n",
       "    <tr style=\"text-align: right;\">\n",
       "      <th></th>\n",
       "      <th>symbol</th>\n",
       "      <th>close</th>\n",
       "    </tr>\n",
       "    <tr>\n",
       "      <th>date</th>\n",
       "      <th></th>\n",
       "      <th></th>\n",
       "    </tr>\n",
       "  </thead>\n",
       "  <tbody>\n",
       "    <tr>\n",
       "      <th>1979-05-02</th>\n",
       "      <td>SYK</td>\n",
       "      <td>0.083335</td>\n",
       "    </tr>\n",
       "    <tr>\n",
       "      <th>1979-05-03</th>\n",
       "      <td>SYK</td>\n",
       "      <td>0.086421</td>\n",
       "    </tr>\n",
       "    <tr>\n",
       "      <th>1979-05-04</th>\n",
       "      <td>SYK</td>\n",
       "      <td>0.081792</td>\n",
       "    </tr>\n",
       "    <tr>\n",
       "      <th>1979-05-07</th>\n",
       "      <td>SYK</td>\n",
       "      <td>0.077162</td>\n",
       "    </tr>\n",
       "    <tr>\n",
       "      <th>1979-05-08</th>\n",
       "      <td>SYK</td>\n",
       "      <td>0.077162</td>\n",
       "    </tr>\n",
       "    <tr>\n",
       "      <th>...</th>\n",
       "      <td>...</td>\n",
       "      <td>...</td>\n",
       "    </tr>\n",
       "    <tr>\n",
       "      <th>2025-06-03</th>\n",
       "      <td>SYK</td>\n",
       "      <td>381.010000</td>\n",
       "    </tr>\n",
       "    <tr>\n",
       "      <th>2025-06-04</th>\n",
       "      <td>SYK</td>\n",
       "      <td>382.550000</td>\n",
       "    </tr>\n",
       "    <tr>\n",
       "      <th>2025-06-05</th>\n",
       "      <td>SYK</td>\n",
       "      <td>383.100000</td>\n",
       "    </tr>\n",
       "    <tr>\n",
       "      <th>2025-06-06</th>\n",
       "      <td>SYK</td>\n",
       "      <td>383.890000</td>\n",
       "    </tr>\n",
       "    <tr>\n",
       "      <th>2025-06-09</th>\n",
       "      <td>SYK</td>\n",
       "      <td>382.280000</td>\n",
       "    </tr>\n",
       "  </tbody>\n",
       "</table>\n",
       "<p>11622 rows × 2 columns</p>\n",
       "</div>"
      ],
      "text/plain": [
       "           symbol       close\n",
       "date                         \n",
       "1979-05-02    SYK    0.083335\n",
       "1979-05-03    SYK    0.086421\n",
       "1979-05-04    SYK    0.081792\n",
       "1979-05-07    SYK    0.077162\n",
       "1979-05-08    SYK    0.077162\n",
       "...           ...         ...\n",
       "2025-06-03    SYK  381.010000\n",
       "2025-06-04    SYK  382.550000\n",
       "2025-06-05    SYK  383.100000\n",
       "2025-06-06    SYK  383.890000\n",
       "2025-06-09    SYK  382.280000\n",
       "\n",
       "[11622 rows x 2 columns]"
      ]
     },
     "execution_count": 44,
     "metadata": {},
     "output_type": "execute_result"
    }
   ],
   "source": [
    "load_dotenv()\n",
    "api_key = os.getenv(\"API_KEY\")\n",
    "\n",
    "fmp = Port_Connect(api_key=api_key)\n",
    "apple = fmp.historical_closing_price('SYK')\n",
    "apple\n",
    "\n"
   ]
  },
  {
   "cell_type": "markdown",
   "metadata": {},
   "source": [
    "## Calculate Key Metric Statistics for a holding"
   ]
  },
  {
   "cell_type": "code",
   "execution_count": 45,
   "metadata": {},
   "outputs": [],
   "source": [
    "from common.Portfolio import Portfolio_Stats\n",
    "\n"
   ]
  },
  {
   "cell_type": "code",
   "execution_count": 46,
   "metadata": {},
   "outputs": [],
   "source": [
    "port = Portfolio_Stats()"
   ]
  },
  {
   "cell_type": "code",
   "execution_count": 47,
   "metadata": {},
   "outputs": [
    {
     "data": {
      "text/plain": [
       "date\n",
       "1979-05-02         NaN\n",
       "1979-05-03    0.037031\n",
       "1979-05-04   -0.053563\n",
       "1979-05-07   -0.056607\n",
       "1979-05-08    0.000000\n",
       "                ...   \n",
       "2025-06-03    0.000394\n",
       "2025-06-04    0.004042\n",
       "2025-06-05    0.001438\n",
       "2025-06-06    0.002062\n",
       "2025-06-09   -0.004194\n",
       "Name: close, Length: 11622, dtype: float64"
      ]
     },
     "execution_count": 47,
     "metadata": {},
     "output_type": "execute_result"
    }
   ],
   "source": [
    "change = apple['close'].pct_change()\n",
    "change"
   ]
  },
  {
   "cell_type": "code",
   "execution_count": 48,
   "metadata": {},
   "outputs": [
    {
     "data": {
      "text/plain": [
       "pandas.core.series.Series"
      ]
     },
     "execution_count": 48,
     "metadata": {},
     "output_type": "execute_result"
    }
   ],
   "source": [
    "type(change)"
   ]
  },
  {
   "cell_type": "code",
   "execution_count": 49,
   "metadata": {},
   "outputs": [],
   "source": [
    "filtered_change = change.loc['2010-01-01':'2025-12-31']"
   ]
  },
  {
   "cell_type": "code",
   "execution_count": 50,
   "metadata": {},
   "outputs": [
    {
     "data": {
      "text/plain": [
       "0.14061427116880565"
      ]
     },
     "execution_count": 50,
     "metadata": {},
     "output_type": "execute_result"
    }
   ],
   "source": [
    "port.annualize_rets(filtered_change,252)"
   ]
  },
  {
   "cell_type": "code",
   "execution_count": 51,
   "metadata": {},
   "outputs": [
    {
     "data": {
      "text/plain": [
       "0.24231458918568177"
      ]
     },
     "execution_count": 51,
     "metadata": {},
     "output_type": "execute_result"
    }
   ],
   "source": [
    "port.annualize_vol(filtered_change,252)"
   ]
  },
  {
   "cell_type": "code",
   "execution_count": 52,
   "metadata": {},
   "outputs": [
    {
     "data": {
      "text/plain": [
       "Timedelta('724 days 00:00:00')"
      ]
     },
     "execution_count": 52,
     "metadata": {},
     "output_type": "execute_result"
    }
   ],
   "source": [
    "max_duration = port.drawdown_duration_from_returns(filtered_change)\n",
    "max_time = max_duration.max()\n",
    "max_time"
   ]
  },
  {
   "cell_type": "code",
   "execution_count": 60,
   "metadata": {},
   "outputs": [
    {
     "name": "stderr",
     "output_type": "stream",
     "text": [
      "/Users/franciscoruiz/Desktop/APPLIED_FINANCE_ANALYTICS/APPLIED_FINANCE_ANALYTICS/common/PortConnect.py:56: UserWarning: The argument 'infer_datetime_format' is deprecated and will be removed in a future version. A strict version of it is now the default, see https://pandas.pydata.org/pdeps/0004-consistent-to-datetime-parsing.html. You can safely remove this argument.\n",
      "  df['date'] = pd.to_datetime(df['date'],infer_datetime_format=True)\n",
      "/Users/franciscoruiz/Desktop/APPLIED_FINANCE_ANALYTICS/APPLIED_FINANCE_ANALYTICS/common/PortConnect.py:62: UserWarning: The argument 'infer_datetime_format' is deprecated and will be removed in a future version. A strict version of it is now the default, see https://pandas.pydata.org/pdeps/0004-consistent-to-datetime-parsing.html. You can safely remove this argument.\n",
      "  df.set_index = pd.to_datetime(df.index, infer_datetime_format=True)\n",
      "/Users/franciscoruiz/Desktop/APPLIED_FINANCE_ANALYTICS/APPLIED_FINANCE_ANALYTICS/common/PortConnect.py:56: UserWarning: The argument 'infer_datetime_format' is deprecated and will be removed in a future version. A strict version of it is now the default, see https://pandas.pydata.org/pdeps/0004-consistent-to-datetime-parsing.html. You can safely remove this argument.\n",
      "  df['date'] = pd.to_datetime(df['date'],infer_datetime_format=True)\n",
      "/Users/franciscoruiz/Desktop/APPLIED_FINANCE_ANALYTICS/APPLIED_FINANCE_ANALYTICS/common/PortConnect.py:62: UserWarning: The argument 'infer_datetime_format' is deprecated and will be removed in a future version. A strict version of it is now the default, see https://pandas.pydata.org/pdeps/0004-consistent-to-datetime-parsing.html. You can safely remove this argument.\n",
      "  df.set_index = pd.to_datetime(df.index, infer_datetime_format=True)\n",
      "/Users/franciscoruiz/Desktop/APPLIED_FINANCE_ANALYTICS/APPLIED_FINANCE_ANALYTICS/common/PortConnect.py:56: UserWarning: The argument 'infer_datetime_format' is deprecated and will be removed in a future version. A strict version of it is now the default, see https://pandas.pydata.org/pdeps/0004-consistent-to-datetime-parsing.html. You can safely remove this argument.\n",
      "  df['date'] = pd.to_datetime(df['date'],infer_datetime_format=True)\n",
      "/Users/franciscoruiz/Desktop/APPLIED_FINANCE_ANALYTICS/APPLIED_FINANCE_ANALYTICS/common/PortConnect.py:62: UserWarning: The argument 'infer_datetime_format' is deprecated and will be removed in a future version. A strict version of it is now the default, see https://pandas.pydata.org/pdeps/0004-consistent-to-datetime-parsing.html. You can safely remove this argument.\n",
      "  df.set_index = pd.to_datetime(df.index, infer_datetime_format=True)\n",
      "/Users/franciscoruiz/Desktop/APPLIED_FINANCE_ANALYTICS/APPLIED_FINANCE_ANALYTICS/common/PortConnect.py:56: UserWarning: The argument 'infer_datetime_format' is deprecated and will be removed in a future version. A strict version of it is now the default, see https://pandas.pydata.org/pdeps/0004-consistent-to-datetime-parsing.html. You can safely remove this argument.\n",
      "  df['date'] = pd.to_datetime(df['date'],infer_datetime_format=True)\n",
      "/Users/franciscoruiz/Desktop/APPLIED_FINANCE_ANALYTICS/APPLIED_FINANCE_ANALYTICS/common/PortConnect.py:62: UserWarning: The argument 'infer_datetime_format' is deprecated and will be removed in a future version. A strict version of it is now the default, see https://pandas.pydata.org/pdeps/0004-consistent-to-datetime-parsing.html. You can safely remove this argument.\n",
      "  df.set_index = pd.to_datetime(df.index, infer_datetime_format=True)\n",
      "/Users/franciscoruiz/Desktop/APPLIED_FINANCE_ANALYTICS/APPLIED_FINANCE_ANALYTICS/common/PortConnect.py:56: UserWarning: The argument 'infer_datetime_format' is deprecated and will be removed in a future version. A strict version of it is now the default, see https://pandas.pydata.org/pdeps/0004-consistent-to-datetime-parsing.html. You can safely remove this argument.\n",
      "  df['date'] = pd.to_datetime(df['date'],infer_datetime_format=True)\n",
      "/Users/franciscoruiz/Desktop/APPLIED_FINANCE_ANALYTICS/APPLIED_FINANCE_ANALYTICS/common/PortConnect.py:62: UserWarning: The argument 'infer_datetime_format' is deprecated and will be removed in a future version. A strict version of it is now the default, see https://pandas.pydata.org/pdeps/0004-consistent-to-datetime-parsing.html. You can safely remove this argument.\n",
      "  df.set_index = pd.to_datetime(df.index, infer_datetime_format=True)\n",
      "/Users/franciscoruiz/Desktop/APPLIED_FINANCE_ANALYTICS/APPLIED_FINANCE_ANALYTICS/common/PortConnect.py:263: UserWarning: The argument 'infer_datetime_format' is deprecated and will be removed in a future version. A strict version of it is now the default, see https://pandas.pydata.org/pdeps/0004-consistent-to-datetime-parsing.html. You can safely remove this argument.\n",
      "  closing_df.index = pd.to_datetime(closing_df.index, infer_datetime_format=True)\n"
     ]
    },
    {
     "data": {
      "text/html": [
       "<div>\n",
       "<style scoped>\n",
       "    .dataframe tbody tr th:only-of-type {\n",
       "        vertical-align: middle;\n",
       "    }\n",
       "\n",
       "    .dataframe tbody tr th {\n",
       "        vertical-align: top;\n",
       "    }\n",
       "\n",
       "    .dataframe thead th {\n",
       "        text-align: right;\n",
       "    }\n",
       "</style>\n",
       "<table border=\"1\" class=\"dataframe\">\n",
       "  <thead>\n",
       "    <tr style=\"text-align: right;\">\n",
       "      <th>symbol</th>\n",
       "      <th>BLK</th>\n",
       "      <th>BSX</th>\n",
       "      <th>HD</th>\n",
       "      <th>ISRG</th>\n",
       "      <th>SYK</th>\n",
       "    </tr>\n",
       "    <tr>\n",
       "      <th>date</th>\n",
       "      <th></th>\n",
       "      <th></th>\n",
       "      <th></th>\n",
       "      <th></th>\n",
       "      <th></th>\n",
       "    </tr>\n",
       "  </thead>\n",
       "  <tbody>\n",
       "    <tr>\n",
       "      <th>2010-01-04</th>\n",
       "      <td>238.58</td>\n",
       "      <td>9.01</td>\n",
       "      <td>28.67</td>\n",
       "      <td>34.31</td>\n",
       "      <td>52.16</td>\n",
       "    </tr>\n",
       "    <tr>\n",
       "      <th>2010-01-05</th>\n",
       "      <td>239.61</td>\n",
       "      <td>9.04</td>\n",
       "      <td>28.88</td>\n",
       "      <td>34.15</td>\n",
       "      <td>52.65</td>\n",
       "    </tr>\n",
       "    <tr>\n",
       "      <th>2010-01-06</th>\n",
       "      <td>234.67</td>\n",
       "      <td>9.16</td>\n",
       "      <td>28.78</td>\n",
       "      <td>34.65</td>\n",
       "      <td>53.46</td>\n",
       "    </tr>\n",
       "    <tr>\n",
       "      <th>2010-01-07</th>\n",
       "      <td>237.25</td>\n",
       "      <td>9.09</td>\n",
       "      <td>29.12</td>\n",
       "      <td>34.52</td>\n",
       "      <td>55.25</td>\n",
       "    </tr>\n",
       "    <tr>\n",
       "      <th>2010-01-08</th>\n",
       "      <td>238.92</td>\n",
       "      <td>9.00</td>\n",
       "      <td>28.98</td>\n",
       "      <td>34.33</td>\n",
       "      <td>55.42</td>\n",
       "    </tr>\n",
       "    <tr>\n",
       "      <th>...</th>\n",
       "      <td>...</td>\n",
       "      <td>...</td>\n",
       "      <td>...</td>\n",
       "      <td>...</td>\n",
       "      <td>...</td>\n",
       "    </tr>\n",
       "    <tr>\n",
       "      <th>2025-06-03</th>\n",
       "      <td>982.13</td>\n",
       "      <td>103.10</td>\n",
       "      <td>373.08</td>\n",
       "      <td>551.85</td>\n",
       "      <td>381.01</td>\n",
       "    </tr>\n",
       "    <tr>\n",
       "      <th>2025-06-04</th>\n",
       "      <td>988.97</td>\n",
       "      <td>102.43</td>\n",
       "      <td>372.40</td>\n",
       "      <td>557.95</td>\n",
       "      <td>382.55</td>\n",
       "    </tr>\n",
       "    <tr>\n",
       "      <th>2025-06-05</th>\n",
       "      <td>985.46</td>\n",
       "      <td>102.83</td>\n",
       "      <td>369.28</td>\n",
       "      <td>558.06</td>\n",
       "      <td>383.10</td>\n",
       "    </tr>\n",
       "    <tr>\n",
       "      <th>2025-06-06</th>\n",
       "      <td>989.05</td>\n",
       "      <td>102.09</td>\n",
       "      <td>367.33</td>\n",
       "      <td>557.08</td>\n",
       "      <td>383.89</td>\n",
       "    </tr>\n",
       "    <tr>\n",
       "      <th>2025-06-09</th>\n",
       "      <td>988.84</td>\n",
       "      <td>100.04</td>\n",
       "      <td>365.20</td>\n",
       "      <td>526.15</td>\n",
       "      <td>382.28</td>\n",
       "    </tr>\n",
       "  </tbody>\n",
       "</table>\n",
       "<p>3882 rows × 5 columns</p>\n",
       "</div>"
      ],
      "text/plain": [
       "symbol         BLK     BSX      HD    ISRG     SYK\n",
       "date                                              \n",
       "2010-01-04  238.58    9.01   28.67   34.31   52.16\n",
       "2010-01-05  239.61    9.04   28.88   34.15   52.65\n",
       "2010-01-06  234.67    9.16   28.78   34.65   53.46\n",
       "2010-01-07  237.25    9.09   29.12   34.52   55.25\n",
       "2010-01-08  238.92    9.00   28.98   34.33   55.42\n",
       "...            ...     ...     ...     ...     ...\n",
       "2025-06-03  982.13  103.10  373.08  551.85  381.01\n",
       "2025-06-04  988.97  102.43  372.40  557.95  382.55\n",
       "2025-06-05  985.46  102.83  369.28  558.06  383.10\n",
       "2025-06-06  989.05  102.09  367.33  557.08  383.89\n",
       "2025-06-09  988.84  100.04  365.20  526.15  382.28\n",
       "\n",
       "[3882 rows x 5 columns]"
      ]
     },
     "execution_count": 60,
     "metadata": {},
     "output_type": "execute_result"
    }
   ],
   "source": [
    "tickers = ['SYK','ISRG','BLK','BSX','HD']\n",
    "\n",
    "prices = fmp.get_closing_prices(tickers,from_date='2010-01-01')\n",
    "prices"
   ]
  },
  {
   "cell_type": "code",
   "execution_count": 62,
   "metadata": {},
   "outputs": [
    {
     "data": {
      "text/html": [
       "<div>\n",
       "<style scoped>\n",
       "    .dataframe tbody tr th:only-of-type {\n",
       "        vertical-align: middle;\n",
       "    }\n",
       "\n",
       "    .dataframe tbody tr th {\n",
       "        vertical-align: top;\n",
       "    }\n",
       "\n",
       "    .dataframe thead th {\n",
       "        text-align: right;\n",
       "    }\n",
       "</style>\n",
       "<table border=\"1\" class=\"dataframe\">\n",
       "  <thead>\n",
       "    <tr style=\"text-align: right;\">\n",
       "      <th></th>\n",
       "      <th>Annualized Return</th>\n",
       "      <th>Annualized Vol</th>\n",
       "      <th>Annualized Semideviation</th>\n",
       "      <th>Sharpe Ratio</th>\n",
       "      <th>Skewness</th>\n",
       "      <th>Kurtosis</th>\n",
       "      <th>Cornish-Fisher VaR (5%)</th>\n",
       "      <th>Historic CVaR (5%)</th>\n",
       "      <th>Max Drawdown</th>\n",
       "    </tr>\n",
       "  </thead>\n",
       "  <tbody>\n",
       "    <tr>\n",
       "      <th>BLK</th>\n",
       "      <td>0.096692</td>\n",
       "      <td>0.277008</td>\n",
       "      <td>0.200320</td>\n",
       "      <td>0.323284</td>\n",
       "      <td>0.051313</td>\n",
       "      <td>9.891567</td>\n",
       "      <td>0.025498</td>\n",
       "      <td>0.040000</td>\n",
       "      <td>-0.453314</td>\n",
       "    </tr>\n",
       "    <tr>\n",
       "      <th>BSX</th>\n",
       "      <td>0.169137</td>\n",
       "      <td>0.283951</td>\n",
       "      <td>0.208881</td>\n",
       "      <td>0.646801</td>\n",
       "      <td>-0.136616</td>\n",
       "      <td>9.266735</td>\n",
       "      <td>0.027064</td>\n",
       "      <td>0.041629</td>\n",
       "      <td>-0.483368</td>\n",
       "    </tr>\n",
       "    <tr>\n",
       "      <th>HD</th>\n",
       "      <td>0.179608</td>\n",
       "      <td>0.233039</td>\n",
       "      <td>0.178084</td>\n",
       "      <td>0.815758</td>\n",
       "      <td>-0.618597</td>\n",
       "      <td>17.443548</td>\n",
       "      <td>0.021576</td>\n",
       "      <td>0.033392</td>\n",
       "      <td>-0.384058</td>\n",
       "    </tr>\n",
       "    <tr>\n",
       "      <th>ISRG</th>\n",
       "      <td>0.193903</td>\n",
       "      <td>0.320829</td>\n",
       "      <td>0.234652</td>\n",
       "      <td>0.678241</td>\n",
       "      <td>0.266761</td>\n",
       "      <td>12.652051</td>\n",
       "      <td>0.026836</td>\n",
       "      <td>0.045976</td>\n",
       "      <td>-0.499042</td>\n",
       "    </tr>\n",
       "    <tr>\n",
       "      <th>SYK</th>\n",
       "      <td>0.138032</td>\n",
       "      <td>0.242183</td>\n",
       "      <td>0.184071</td>\n",
       "      <td>0.569902</td>\n",
       "      <td>-0.109296</td>\n",
       "      <td>13.387988</td>\n",
       "      <td>0.021733</td>\n",
       "      <td>0.035554</td>\n",
       "      <td>-0.438028</td>\n",
       "    </tr>\n",
       "  </tbody>\n",
       "</table>\n",
       "</div>"
      ],
      "text/plain": [
       "      Annualized Return  Annualized Vol  Annualized Semideviation  \\\n",
       "BLK            0.096692        0.277008                  0.200320   \n",
       "BSX            0.169137        0.283951                  0.208881   \n",
       "HD             0.179608        0.233039                  0.178084   \n",
       "ISRG           0.193903        0.320829                  0.234652   \n",
       "SYK            0.138032        0.242183                  0.184071   \n",
       "\n",
       "      Sharpe Ratio  Skewness   Kurtosis  Cornish-Fisher VaR (5%)  \\\n",
       "BLK       0.323284  0.051313   9.891567                 0.025498   \n",
       "BSX       0.646801 -0.136616   9.266735                 0.027064   \n",
       "HD        0.815758 -0.618597  17.443548                 0.021576   \n",
       "ISRG      0.678241  0.266761  12.652051                 0.026836   \n",
       "SYK       0.569902 -0.109296  13.387988                 0.021733   \n",
       "\n",
       "      Historic CVaR (5%)  Max Drawdown  \n",
       "BLK             0.040000     -0.453314  \n",
       "BSX             0.041629     -0.483368  \n",
       "HD              0.033392     -0.384058  \n",
       "ISRG            0.045976     -0.499042  \n",
       "SYK             0.035554     -0.438028  "
      ]
     },
     "execution_count": 62,
     "metadata": {},
     "output_type": "execute_result"
    }
   ],
   "source": [
    "dfs = []\n",
    "for ticker in prices.columns:\n",
    "    change = prices[ticker].pct_change()\n",
    "    summary = port.summary_stats(change)\n",
    "    dfs.append(summary)\n",
    "\n",
    "\n",
    "pd.concat(dfs)\n"
   ]
  },
  {
   "cell_type": "code",
   "execution_count": null,
   "metadata": {},
   "outputs": [
    {
     "data": {
      "text/html": [
       "<div>\n",
       "<style scoped>\n",
       "    .dataframe tbody tr th:only-of-type {\n",
       "        vertical-align: middle;\n",
       "    }\n",
       "\n",
       "    .dataframe tbody tr th {\n",
       "        vertical-align: top;\n",
       "    }\n",
       "\n",
       "    .dataframe thead th {\n",
       "        text-align: right;\n",
       "    }\n",
       "</style>\n",
       "<table border=\"1\" class=\"dataframe\">\n",
       "  <thead>\n",
       "    <tr style=\"text-align: right;\">\n",
       "      <th></th>\n",
       "      <th>Annualized Return</th>\n",
       "      <th>Annualized Vol</th>\n",
       "      <th>Annualized Semideviation</th>\n",
       "      <th>Sharpe Ratio</th>\n",
       "      <th>Skewness</th>\n",
       "      <th>Kurtosis</th>\n",
       "      <th>Cornish-Fisher VaR (5%)</th>\n",
       "      <th>Historic CVaR (5%)</th>\n",
       "      <th>Max Drawdown</th>\n",
       "    </tr>\n",
       "  </thead>\n",
       "  <tbody>\n",
       "    <tr>\n",
       "      <th>close</th>\n",
       "      <td>0.140614</td>\n",
       "      <td>0.242315</td>\n",
       "      <td>0.184071</td>\n",
       "      <td>0.58348</td>\n",
       "      <td>-0.107775</td>\n",
       "      <td>13.362683</td>\n",
       "      <td>0.021738</td>\n",
       "      <td>0.035554</td>\n",
       "      <td>-0.438028</td>\n",
       "    </tr>\n",
       "  </tbody>\n",
       "</table>\n",
       "</div>"
      ],
      "text/plain": [
       "       Annualized Return  Annualized Vol  Annualized Semideviation  \\\n",
       "close           0.140614        0.242315                  0.184071   \n",
       "\n",
       "       Sharpe Ratio  Skewness   Kurtosis  Cornish-Fisher VaR (5%)  \\\n",
       "close       0.58348 -0.107775  13.362683                 0.021738   \n",
       "\n",
       "       Historic CVaR (5%)  Max Drawdown  \n",
       "close            0.035554     -0.438028  "
      ]
     },
     "execution_count": 39,
     "metadata": {},
     "output_type": "execute_result"
    }
   ],
   "source": [
    "port.summary_stats(filtered_change)"
   ]
  },
  {
   "cell_type": "code",
   "execution_count": null,
   "metadata": {},
   "outputs": [
    {
     "data": {
      "text/plain": [
       "0.03555434142407394"
      ]
     },
     "execution_count": 40,
     "metadata": {},
     "output_type": "execute_result"
    }
   ],
   "source": [
    "port.cvar_historic(filtered_change)"
   ]
  },
  {
   "cell_type": "code",
   "execution_count": null,
   "metadata": {},
   "outputs": [
    {
     "data": {
      "text/html": [
       "<div>\n",
       "<style scoped>\n",
       "    .dataframe tbody tr th:only-of-type {\n",
       "        vertical-align: middle;\n",
       "    }\n",
       "\n",
       "    .dataframe tbody tr th {\n",
       "        vertical-align: top;\n",
       "    }\n",
       "\n",
       "    .dataframe thead th {\n",
       "        text-align: right;\n",
       "    }\n",
       "</style>\n",
       "<table border=\"1\" class=\"dataframe\">\n",
       "  <thead>\n",
       "    <tr style=\"text-align: right;\">\n",
       "      <th></th>\n",
       "      <th>Wealth</th>\n",
       "      <th>Previous Peak</th>\n",
       "      <th>Drawdown</th>\n",
       "    </tr>\n",
       "    <tr>\n",
       "      <th>date</th>\n",
       "      <th></th>\n",
       "      <th></th>\n",
       "      <th></th>\n",
       "    </tr>\n",
       "  </thead>\n",
       "  <tbody>\n",
       "    <tr>\n",
       "      <th>2010-01-04</th>\n",
       "      <td>1035.537026</td>\n",
       "      <td>1035.537026</td>\n",
       "      <td>0.000000</td>\n",
       "    </tr>\n",
       "    <tr>\n",
       "      <th>2010-01-05</th>\n",
       "      <td>1045.265039</td>\n",
       "      <td>1045.265039</td>\n",
       "      <td>0.000000</td>\n",
       "    </tr>\n",
       "    <tr>\n",
       "      <th>2010-01-06</th>\n",
       "      <td>1061.346039</td>\n",
       "      <td>1061.346039</td>\n",
       "      <td>0.000000</td>\n",
       "    </tr>\n",
       "    <tr>\n",
       "      <th>2010-01-07</th>\n",
       "      <td>1096.883065</td>\n",
       "      <td>1096.883065</td>\n",
       "      <td>0.000000</td>\n",
       "    </tr>\n",
       "    <tr>\n",
       "      <th>2010-01-08</th>\n",
       "      <td>1100.258090</td>\n",
       "      <td>1100.258090</td>\n",
       "      <td>0.000000</td>\n",
       "    </tr>\n",
       "    <tr>\n",
       "      <th>...</th>\n",
       "      <td>...</td>\n",
       "      <td>...</td>\n",
       "      <td>...</td>\n",
       "    </tr>\n",
       "    <tr>\n",
       "      <th>2025-06-03</th>\n",
       "      <td>7564.224737</td>\n",
       "      <td>7939.249553</td>\n",
       "      <td>-0.047237</td>\n",
       "    </tr>\n",
       "    <tr>\n",
       "      <th>2025-06-04</th>\n",
       "      <td>7594.798491</td>\n",
       "      <td>7939.249553</td>\n",
       "      <td>-0.043386</td>\n",
       "    </tr>\n",
       "    <tr>\n",
       "      <th>2025-06-05</th>\n",
       "      <td>7605.717689</td>\n",
       "      <td>7939.249553</td>\n",
       "      <td>-0.042011</td>\n",
       "    </tr>\n",
       "    <tr>\n",
       "      <th>2025-06-06</th>\n",
       "      <td>7621.401628</td>\n",
       "      <td>7939.249553</td>\n",
       "      <td>-0.040035</td>\n",
       "    </tr>\n",
       "    <tr>\n",
       "      <th>2025-06-09</th>\n",
       "      <td>7589.438158</td>\n",
       "      <td>7939.249553</td>\n",
       "      <td>-0.044061</td>\n",
       "    </tr>\n",
       "  </tbody>\n",
       "</table>\n",
       "<p>3882 rows × 3 columns</p>\n",
       "</div>"
      ],
      "text/plain": [
       "                 Wealth  Previous Peak  Drawdown\n",
       "date                                            \n",
       "2010-01-04  1035.537026    1035.537026  0.000000\n",
       "2010-01-05  1045.265039    1045.265039  0.000000\n",
       "2010-01-06  1061.346039    1061.346039  0.000000\n",
       "2010-01-07  1096.883065    1096.883065  0.000000\n",
       "2010-01-08  1100.258090    1100.258090  0.000000\n",
       "...                 ...            ...       ...\n",
       "2025-06-03  7564.224737    7939.249553 -0.047237\n",
       "2025-06-04  7594.798491    7939.249553 -0.043386\n",
       "2025-06-05  7605.717689    7939.249553 -0.042011\n",
       "2025-06-06  7621.401628    7939.249553 -0.040035\n",
       "2025-06-09  7589.438158    7939.249553 -0.044061\n",
       "\n",
       "[3882 rows x 3 columns]"
      ]
     },
     "execution_count": 41,
     "metadata": {},
     "output_type": "execute_result"
    }
   ],
   "source": [
    "port.drawdown(filtered_change)"
   ]
  },
  {
   "cell_type": "code",
   "execution_count": null,
   "metadata": {},
   "outputs": [
    {
     "data": {
      "text/plain": [
       "date\n",
       "2010-01-04    0.035537\n",
       "2010-01-05    0.009394\n",
       "2010-01-06    0.015385\n",
       "2010-01-07    0.033483\n",
       "2010-01-08    0.003077\n",
       "                ...   \n",
       "2025-06-03    0.000394\n",
       "2025-06-04    0.004042\n",
       "2025-06-05    0.001438\n",
       "2025-06-06    0.002062\n",
       "2025-06-09   -0.004194\n",
       "Name: close, Length: 3882, dtype: float64"
      ]
     },
     "execution_count": 42,
     "metadata": {},
     "output_type": "execute_result"
    }
   ],
   "source": [
    "filtered_change"
   ]
  },
  {
   "cell_type": "code",
   "execution_count": null,
   "metadata": {},
   "outputs": [],
   "source": []
  },
  {
   "cell_type": "code",
   "execution_count": null,
   "metadata": {},
   "outputs": [],
   "source": []
  }
 ],
 "metadata": {
  "kernelspec": {
   "display_name": "APPLIED_ANALYTICS_FINANCE",
   "language": "python",
   "name": "python3"
  },
  "language_info": {
   "codemirror_mode": {
    "name": "ipython",
    "version": 3
   },
   "file_extension": ".py",
   "mimetype": "text/x-python",
   "name": "python",
   "nbconvert_exporter": "python",
   "pygments_lexer": "ipython3",
   "version": "3.12.9"
  }
 },
 "nbformat": 4,
 "nbformat_minor": 2
}
