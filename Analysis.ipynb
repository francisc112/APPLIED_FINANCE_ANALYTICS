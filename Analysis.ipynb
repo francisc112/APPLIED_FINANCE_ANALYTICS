{
 "cells": [
  {
   "cell_type": "code",
   "execution_count": null,
   "metadata": {},
   "outputs": [],
   "source": []
  },
  {
   "cell_type": "code",
   "execution_count": 1,
   "metadata": {},
   "outputs": [],
   "source": [
    "import pandas as pd\n",
    "import numpy as np\n",
    "import os\n",
    "import dotenv\n",
    "from dotenv import load_dotenv\n",
    "from common.PortConnect import Port_Connect"
   ]
  },
  {
   "cell_type": "code",
   "execution_count": 2,
   "metadata": {},
   "outputs": [
    {
     "name": "stderr",
     "output_type": "stream",
     "text": [
      "/Users/franciscoruiz/Desktop/APPLIED_FINANCE_ANALYTICS/APPLIED_FINANCE_ANALYTICS/common/PortConnect.py:56: UserWarning: The argument 'infer_datetime_format' is deprecated and will be removed in a future version. A strict version of it is now the default, see https://pandas.pydata.org/pdeps/0004-consistent-to-datetime-parsing.html. You can safely remove this argument.\n",
      "  df['date'] = pd.to_datetime(df['date'],infer_datetime_format=True)\n",
      "/Users/franciscoruiz/Desktop/APPLIED_FINANCE_ANALYTICS/APPLIED_FINANCE_ANALYTICS/common/PortConnect.py:62: UserWarning: The argument 'infer_datetime_format' is deprecated and will be removed in a future version. A strict version of it is now the default, see https://pandas.pydata.org/pdeps/0004-consistent-to-datetime-parsing.html. You can safely remove this argument.\n",
      "  df.set_index = pd.to_datetime(df.index, infer_datetime_format=True)\n"
     ]
    },
    {
     "data": {
      "text/html": [
       "<div>\n",
       "<style scoped>\n",
       "    .dataframe tbody tr th:only-of-type {\n",
       "        vertical-align: middle;\n",
       "    }\n",
       "\n",
       "    .dataframe tbody tr th {\n",
       "        vertical-align: top;\n",
       "    }\n",
       "\n",
       "    .dataframe thead th {\n",
       "        text-align: right;\n",
       "    }\n",
       "</style>\n",
       "<table border=\"1\" class=\"dataframe\">\n",
       "  <thead>\n",
       "    <tr style=\"text-align: right;\">\n",
       "      <th></th>\n",
       "      <th>symbol</th>\n",
       "      <th>close</th>\n",
       "    </tr>\n",
       "    <tr>\n",
       "      <th>date</th>\n",
       "      <th></th>\n",
       "      <th></th>\n",
       "    </tr>\n",
       "  </thead>\n",
       "  <tbody>\n",
       "    <tr>\n",
       "      <th>1979-05-02</th>\n",
       "      <td>SYK</td>\n",
       "      <td>0.083335</td>\n",
       "    </tr>\n",
       "    <tr>\n",
       "      <th>1979-05-03</th>\n",
       "      <td>SYK</td>\n",
       "      <td>0.086421</td>\n",
       "    </tr>\n",
       "    <tr>\n",
       "      <th>1979-05-04</th>\n",
       "      <td>SYK</td>\n",
       "      <td>0.081792</td>\n",
       "    </tr>\n",
       "    <tr>\n",
       "      <th>1979-05-07</th>\n",
       "      <td>SYK</td>\n",
       "      <td>0.077162</td>\n",
       "    </tr>\n",
       "    <tr>\n",
       "      <th>1979-05-08</th>\n",
       "      <td>SYK</td>\n",
       "      <td>0.077162</td>\n",
       "    </tr>\n",
       "    <tr>\n",
       "      <th>...</th>\n",
       "      <td>...</td>\n",
       "      <td>...</td>\n",
       "    </tr>\n",
       "    <tr>\n",
       "      <th>2025-06-05</th>\n",
       "      <td>SYK</td>\n",
       "      <td>383.100000</td>\n",
       "    </tr>\n",
       "    <tr>\n",
       "      <th>2025-06-06</th>\n",
       "      <td>SYK</td>\n",
       "      <td>383.890000</td>\n",
       "    </tr>\n",
       "    <tr>\n",
       "      <th>2025-06-09</th>\n",
       "      <td>SYK</td>\n",
       "      <td>382.280000</td>\n",
       "    </tr>\n",
       "    <tr>\n",
       "      <th>2025-06-10</th>\n",
       "      <td>SYK</td>\n",
       "      <td>385.050000</td>\n",
       "    </tr>\n",
       "    <tr>\n",
       "      <th>2025-06-11</th>\n",
       "      <td>SYK</td>\n",
       "      <td>381.080000</td>\n",
       "    </tr>\n",
       "  </tbody>\n",
       "</table>\n",
       "<p>11624 rows × 2 columns</p>\n",
       "</div>"
      ],
      "text/plain": [
       "           symbol       close\n",
       "date                         \n",
       "1979-05-02    SYK    0.083335\n",
       "1979-05-03    SYK    0.086421\n",
       "1979-05-04    SYK    0.081792\n",
       "1979-05-07    SYK    0.077162\n",
       "1979-05-08    SYK    0.077162\n",
       "...           ...         ...\n",
       "2025-06-05    SYK  383.100000\n",
       "2025-06-06    SYK  383.890000\n",
       "2025-06-09    SYK  382.280000\n",
       "2025-06-10    SYK  385.050000\n",
       "2025-06-11    SYK  381.080000\n",
       "\n",
       "[11624 rows x 2 columns]"
      ]
     },
     "execution_count": 2,
     "metadata": {},
     "output_type": "execute_result"
    }
   ],
   "source": [
    "load_dotenv()\n",
    "api_key = os.getenv(\"API_KEY\")\n",
    "\n",
    "fmp = Port_Connect(api_key=api_key)\n",
    "apple = fmp.historical_closing_price('SYK')\n",
    "apple\n",
    "\n"
   ]
  },
  {
   "cell_type": "markdown",
   "metadata": {},
   "source": [
    "## Calculate Key Metric Statistics for a holding"
   ]
  },
  {
   "cell_type": "code",
   "execution_count": 3,
   "metadata": {},
   "outputs": [],
   "source": [
    "from common.Portfolio import Portfolio_Stats\n",
    "\n"
   ]
  },
  {
   "cell_type": "code",
   "execution_count": 4,
   "metadata": {},
   "outputs": [],
   "source": [
    "port = Portfolio_Stats()"
   ]
  },
  {
   "cell_type": "code",
   "execution_count": 5,
   "metadata": {},
   "outputs": [
    {
     "data": {
      "text/plain": [
       "date\n",
       "1979-05-02         NaN\n",
       "1979-05-03    0.037031\n",
       "1979-05-04   -0.053563\n",
       "1979-05-07   -0.056607\n",
       "1979-05-08    0.000000\n",
       "                ...   \n",
       "2025-06-05    0.001438\n",
       "2025-06-06    0.002062\n",
       "2025-06-09   -0.004194\n",
       "2025-06-10    0.007246\n",
       "2025-06-11   -0.010310\n",
       "Name: close, Length: 11624, dtype: float64"
      ]
     },
     "execution_count": 5,
     "metadata": {},
     "output_type": "execute_result"
    }
   ],
   "source": [
    "change = apple['close'].pct_change()\n",
    "change"
   ]
  },
  {
   "cell_type": "code",
   "execution_count": 6,
   "metadata": {},
   "outputs": [
    {
     "data": {
      "text/plain": [
       "pandas.core.series.Series"
      ]
     },
     "execution_count": 6,
     "metadata": {},
     "output_type": "execute_result"
    }
   ],
   "source": [
    "type(change)"
   ]
  },
  {
   "cell_type": "code",
   "execution_count": 7,
   "metadata": {},
   "outputs": [],
   "source": [
    "filtered_change = change.loc['2010-01-01':'2025-12-31']"
   ]
  },
  {
   "cell_type": "code",
   "execution_count": 8,
   "metadata": {},
   "outputs": [
    {
     "data": {
      "text/plain": [
       "0.14030436770929877"
      ]
     },
     "execution_count": 8,
     "metadata": {},
     "output_type": "execute_result"
    }
   ],
   "source": [
    "port.annualize_rets(filtered_change,252)"
   ]
  },
  {
   "cell_type": "code",
   "execution_count": 9,
   "metadata": {},
   "outputs": [
    {
     "data": {
      "text/plain": [
       "0.24227408136647288"
      ]
     },
     "execution_count": 9,
     "metadata": {},
     "output_type": "execute_result"
    }
   ],
   "source": [
    "port.annualize_vol(filtered_change,252)"
   ]
  },
  {
   "cell_type": "code",
   "execution_count": 11,
   "metadata": {},
   "outputs": [
    {
     "data": {
      "text/plain": [
       "724"
      ]
     },
     "execution_count": 11,
     "metadata": {},
     "output_type": "execute_result"
    }
   ],
   "source": [
    "max_duration = port.drawdown_duration_from_returns(filtered_change)\n",
    "max_duration"
   ]
  },
  {
   "cell_type": "code",
   "execution_count": 14,
   "metadata": {},
   "outputs": [
    {
     "name": "stderr",
     "output_type": "stream",
     "text": [
      "/Users/franciscoruiz/Desktop/APPLIED_FINANCE_ANALYTICS/APPLIED_FINANCE_ANALYTICS/common/PortConnect.py:56: UserWarning: The argument 'infer_datetime_format' is deprecated and will be removed in a future version. A strict version of it is now the default, see https://pandas.pydata.org/pdeps/0004-consistent-to-datetime-parsing.html. You can safely remove this argument.\n",
      "  df['date'] = pd.to_datetime(df['date'],infer_datetime_format=True)\n",
      "/Users/franciscoruiz/Desktop/APPLIED_FINANCE_ANALYTICS/APPLIED_FINANCE_ANALYTICS/common/PortConnect.py:62: UserWarning: The argument 'infer_datetime_format' is deprecated and will be removed in a future version. A strict version of it is now the default, see https://pandas.pydata.org/pdeps/0004-consistent-to-datetime-parsing.html. You can safely remove this argument.\n",
      "  df.set_index = pd.to_datetime(df.index, infer_datetime_format=True)\n",
      "/Users/franciscoruiz/Desktop/APPLIED_FINANCE_ANALYTICS/APPLIED_FINANCE_ANALYTICS/common/PortConnect.py:56: UserWarning: The argument 'infer_datetime_format' is deprecated and will be removed in a future version. A strict version of it is now the default, see https://pandas.pydata.org/pdeps/0004-consistent-to-datetime-parsing.html. You can safely remove this argument.\n",
      "  df['date'] = pd.to_datetime(df['date'],infer_datetime_format=True)\n",
      "/Users/franciscoruiz/Desktop/APPLIED_FINANCE_ANALYTICS/APPLIED_FINANCE_ANALYTICS/common/PortConnect.py:62: UserWarning: The argument 'infer_datetime_format' is deprecated and will be removed in a future version. A strict version of it is now the default, see https://pandas.pydata.org/pdeps/0004-consistent-to-datetime-parsing.html. You can safely remove this argument.\n",
      "  df.set_index = pd.to_datetime(df.index, infer_datetime_format=True)\n",
      "/Users/franciscoruiz/Desktop/APPLIED_FINANCE_ANALYTICS/APPLIED_FINANCE_ANALYTICS/common/PortConnect.py:56: UserWarning: The argument 'infer_datetime_format' is deprecated and will be removed in a future version. A strict version of it is now the default, see https://pandas.pydata.org/pdeps/0004-consistent-to-datetime-parsing.html. You can safely remove this argument.\n",
      "  df['date'] = pd.to_datetime(df['date'],infer_datetime_format=True)\n",
      "/Users/franciscoruiz/Desktop/APPLIED_FINANCE_ANALYTICS/APPLIED_FINANCE_ANALYTICS/common/PortConnect.py:62: UserWarning: The argument 'infer_datetime_format' is deprecated and will be removed in a future version. A strict version of it is now the default, see https://pandas.pydata.org/pdeps/0004-consistent-to-datetime-parsing.html. You can safely remove this argument.\n",
      "  df.set_index = pd.to_datetime(df.index, infer_datetime_format=True)\n",
      "/Users/franciscoruiz/Desktop/APPLIED_FINANCE_ANALYTICS/APPLIED_FINANCE_ANALYTICS/common/PortConnect.py:56: UserWarning: The argument 'infer_datetime_format' is deprecated and will be removed in a future version. A strict version of it is now the default, see https://pandas.pydata.org/pdeps/0004-consistent-to-datetime-parsing.html. You can safely remove this argument.\n",
      "  df['date'] = pd.to_datetime(df['date'],infer_datetime_format=True)\n",
      "/Users/franciscoruiz/Desktop/APPLIED_FINANCE_ANALYTICS/APPLIED_FINANCE_ANALYTICS/common/PortConnect.py:62: UserWarning: The argument 'infer_datetime_format' is deprecated and will be removed in a future version. A strict version of it is now the default, see https://pandas.pydata.org/pdeps/0004-consistent-to-datetime-parsing.html. You can safely remove this argument.\n",
      "  df.set_index = pd.to_datetime(df.index, infer_datetime_format=True)\n",
      "/Users/franciscoruiz/Desktop/APPLIED_FINANCE_ANALYTICS/APPLIED_FINANCE_ANALYTICS/common/PortConnect.py:56: UserWarning: The argument 'infer_datetime_format' is deprecated and will be removed in a future version. A strict version of it is now the default, see https://pandas.pydata.org/pdeps/0004-consistent-to-datetime-parsing.html. You can safely remove this argument.\n",
      "  df['date'] = pd.to_datetime(df['date'],infer_datetime_format=True)\n",
      "/Users/franciscoruiz/Desktop/APPLIED_FINANCE_ANALYTICS/APPLIED_FINANCE_ANALYTICS/common/PortConnect.py:62: UserWarning: The argument 'infer_datetime_format' is deprecated and will be removed in a future version. A strict version of it is now the default, see https://pandas.pydata.org/pdeps/0004-consistent-to-datetime-parsing.html. You can safely remove this argument.\n",
      "  df.set_index = pd.to_datetime(df.index, infer_datetime_format=True)\n",
      "/Users/franciscoruiz/Desktop/APPLIED_FINANCE_ANALYTICS/APPLIED_FINANCE_ANALYTICS/common/PortConnect.py:56: UserWarning: The argument 'infer_datetime_format' is deprecated and will be removed in a future version. A strict version of it is now the default, see https://pandas.pydata.org/pdeps/0004-consistent-to-datetime-parsing.html. You can safely remove this argument.\n",
      "  df['date'] = pd.to_datetime(df['date'],infer_datetime_format=True)\n",
      "/Users/franciscoruiz/Desktop/APPLIED_FINANCE_ANALYTICS/APPLIED_FINANCE_ANALYTICS/common/PortConnect.py:62: UserWarning: The argument 'infer_datetime_format' is deprecated and will be removed in a future version. A strict version of it is now the default, see https://pandas.pydata.org/pdeps/0004-consistent-to-datetime-parsing.html. You can safely remove this argument.\n",
      "  df.set_index = pd.to_datetime(df.index, infer_datetime_format=True)\n",
      "/Users/franciscoruiz/Desktop/APPLIED_FINANCE_ANALYTICS/APPLIED_FINANCE_ANALYTICS/common/PortConnect.py:263: UserWarning: The argument 'infer_datetime_format' is deprecated and will be removed in a future version. A strict version of it is now the default, see https://pandas.pydata.org/pdeps/0004-consistent-to-datetime-parsing.html. You can safely remove this argument.\n",
      "  closing_df.index = pd.to_datetime(closing_df.index, infer_datetime_format=True)\n"
     ]
    },
    {
     "data": {
      "text/html": [
       "<div>\n",
       "<style scoped>\n",
       "    .dataframe tbody tr th:only-of-type {\n",
       "        vertical-align: middle;\n",
       "    }\n",
       "\n",
       "    .dataframe tbody tr th {\n",
       "        vertical-align: top;\n",
       "    }\n",
       "\n",
       "    .dataframe thead th {\n",
       "        text-align: right;\n",
       "    }\n",
       "</style>\n",
       "<table border=\"1\" class=\"dataframe\">\n",
       "  <thead>\n",
       "    <tr style=\"text-align: right;\">\n",
       "      <th>symbol</th>\n",
       "      <th>BLK</th>\n",
       "      <th>BSX</th>\n",
       "      <th>HD</th>\n",
       "      <th>ISRG</th>\n",
       "      <th>SYK</th>\n",
       "      <th>VOO</th>\n",
       "    </tr>\n",
       "    <tr>\n",
       "      <th>date</th>\n",
       "      <th></th>\n",
       "      <th></th>\n",
       "      <th></th>\n",
       "      <th></th>\n",
       "      <th></th>\n",
       "      <th></th>\n",
       "    </tr>\n",
       "  </thead>\n",
       "  <tbody>\n",
       "    <tr>\n",
       "      <th>2010-01-04</th>\n",
       "      <td>238.58</td>\n",
       "      <td>9.01</td>\n",
       "      <td>28.67</td>\n",
       "      <td>34.31</td>\n",
       "      <td>52.16</td>\n",
       "      <td>NaN</td>\n",
       "    </tr>\n",
       "    <tr>\n",
       "      <th>2010-01-05</th>\n",
       "      <td>239.61</td>\n",
       "      <td>9.04</td>\n",
       "      <td>28.88</td>\n",
       "      <td>34.15</td>\n",
       "      <td>52.65</td>\n",
       "      <td>NaN</td>\n",
       "    </tr>\n",
       "    <tr>\n",
       "      <th>2010-01-06</th>\n",
       "      <td>234.67</td>\n",
       "      <td>9.16</td>\n",
       "      <td>28.78</td>\n",
       "      <td>34.65</td>\n",
       "      <td>53.46</td>\n",
       "      <td>NaN</td>\n",
       "    </tr>\n",
       "    <tr>\n",
       "      <th>2010-01-07</th>\n",
       "      <td>237.25</td>\n",
       "      <td>9.09</td>\n",
       "      <td>29.12</td>\n",
       "      <td>34.52</td>\n",
       "      <td>55.25</td>\n",
       "      <td>NaN</td>\n",
       "    </tr>\n",
       "    <tr>\n",
       "      <th>2010-01-08</th>\n",
       "      <td>238.92</td>\n",
       "      <td>9.00</td>\n",
       "      <td>28.98</td>\n",
       "      <td>34.33</td>\n",
       "      <td>55.42</td>\n",
       "      <td>NaN</td>\n",
       "    </tr>\n",
       "    <tr>\n",
       "      <th>...</th>\n",
       "      <td>...</td>\n",
       "      <td>...</td>\n",
       "      <td>...</td>\n",
       "      <td>...</td>\n",
       "      <td>...</td>\n",
       "      <td>...</td>\n",
       "    </tr>\n",
       "    <tr>\n",
       "      <th>2025-06-05</th>\n",
       "      <td>985.46</td>\n",
       "      <td>102.83</td>\n",
       "      <td>369.28</td>\n",
       "      <td>558.06</td>\n",
       "      <td>383.10</td>\n",
       "      <td>545.09</td>\n",
       "    </tr>\n",
       "    <tr>\n",
       "      <th>2025-06-06</th>\n",
       "      <td>989.05</td>\n",
       "      <td>102.09</td>\n",
       "      <td>367.33</td>\n",
       "      <td>557.08</td>\n",
       "      <td>383.89</td>\n",
       "      <td>550.66</td>\n",
       "    </tr>\n",
       "    <tr>\n",
       "      <th>2025-06-09</th>\n",
       "      <td>988.84</td>\n",
       "      <td>100.04</td>\n",
       "      <td>365.20</td>\n",
       "      <td>526.15</td>\n",
       "      <td>382.28</td>\n",
       "      <td>551.25</td>\n",
       "    </tr>\n",
       "    <tr>\n",
       "      <th>2025-06-10</th>\n",
       "      <td>991.90</td>\n",
       "      <td>99.34</td>\n",
       "      <td>367.91</td>\n",
       "      <td>529.60</td>\n",
       "      <td>385.05</td>\n",
       "      <td>554.39</td>\n",
       "    </tr>\n",
       "    <tr>\n",
       "      <th>2025-06-11</th>\n",
       "      <td>993.30</td>\n",
       "      <td>99.40</td>\n",
       "      <td>360.46</td>\n",
       "      <td>522.41</td>\n",
       "      <td>381.08</td>\n",
       "      <td>552.86</td>\n",
       "    </tr>\n",
       "  </tbody>\n",
       "</table>\n",
       "<p>3884 rows × 6 columns</p>\n",
       "</div>"
      ],
      "text/plain": [
       "symbol         BLK     BSX      HD    ISRG     SYK     VOO\n",
       "date                                                      \n",
       "2010-01-04  238.58    9.01   28.67   34.31   52.16     NaN\n",
       "2010-01-05  239.61    9.04   28.88   34.15   52.65     NaN\n",
       "2010-01-06  234.67    9.16   28.78   34.65   53.46     NaN\n",
       "2010-01-07  237.25    9.09   29.12   34.52   55.25     NaN\n",
       "2010-01-08  238.92    9.00   28.98   34.33   55.42     NaN\n",
       "...            ...     ...     ...     ...     ...     ...\n",
       "2025-06-05  985.46  102.83  369.28  558.06  383.10  545.09\n",
       "2025-06-06  989.05  102.09  367.33  557.08  383.89  550.66\n",
       "2025-06-09  988.84  100.04  365.20  526.15  382.28  551.25\n",
       "2025-06-10  991.90   99.34  367.91  529.60  385.05  554.39\n",
       "2025-06-11  993.30   99.40  360.46  522.41  381.08  552.86\n",
       "\n",
       "[3884 rows x 6 columns]"
      ]
     },
     "execution_count": 14,
     "metadata": {},
     "output_type": "execute_result"
    }
   ],
   "source": [
    "tickers = ['SYK','ISRG','BLK','BSX','HD',\"VOO\"]\n",
    "\n",
    "prices = fmp.get_closing_prices(tickers,from_date='2010-01-01')\n",
    "prices"
   ]
  },
  {
   "cell_type": "code",
   "execution_count": 15,
   "metadata": {},
   "outputs": [
    {
     "data": {
      "text/html": [
       "<div>\n",
       "<style scoped>\n",
       "    .dataframe tbody tr th:only-of-type {\n",
       "        vertical-align: middle;\n",
       "    }\n",
       "\n",
       "    .dataframe tbody tr th {\n",
       "        vertical-align: top;\n",
       "    }\n",
       "\n",
       "    .dataframe thead th {\n",
       "        text-align: right;\n",
       "    }\n",
       "</style>\n",
       "<table border=\"1\" class=\"dataframe\">\n",
       "  <thead>\n",
       "    <tr style=\"text-align: right;\">\n",
       "      <th></th>\n",
       "      <th>Annualized Return</th>\n",
       "      <th>Annualized Vol</th>\n",
       "      <th>Annualized Semideviation</th>\n",
       "      <th>Sharpe Ratio</th>\n",
       "      <th>Skewness</th>\n",
       "      <th>Kurtosis</th>\n",
       "      <th>Cornish-Fisher VaR (5%)</th>\n",
       "      <th>Historic CVaR (5%)</th>\n",
       "      <th>Max Drawdown</th>\n",
       "      <th>Drawdown Duration (Days)</th>\n",
       "    </tr>\n",
       "  </thead>\n",
       "  <tbody>\n",
       "    <tr>\n",
       "      <th>BLK</th>\n",
       "      <td>0.096960</td>\n",
       "      <td>0.276937</td>\n",
       "      <td>0.200320</td>\n",
       "      <td>0.324583</td>\n",
       "      <td>0.051173</td>\n",
       "      <td>9.896530</td>\n",
       "      <td>0.025490</td>\n",
       "      <td>0.040000</td>\n",
       "      <td>-0.453314</td>\n",
       "      <td>1129</td>\n",
       "    </tr>\n",
       "    <tr>\n",
       "      <th>BSX</th>\n",
       "      <td>0.168556</td>\n",
       "      <td>0.283885</td>\n",
       "      <td>0.208833</td>\n",
       "      <td>0.644248</td>\n",
       "      <td>-0.136319</td>\n",
       "      <td>9.270553</td>\n",
       "      <td>0.027056</td>\n",
       "      <td>0.041629</td>\n",
       "      <td>-0.483368</td>\n",
       "      <td>1242</td>\n",
       "    </tr>\n",
       "    <tr>\n",
       "      <th>HD</th>\n",
       "      <td>0.178508</td>\n",
       "      <td>0.233047</td>\n",
       "      <td>0.178075</td>\n",
       "      <td>0.809803</td>\n",
       "      <td>-0.618193</td>\n",
       "      <td>17.432743</td>\n",
       "      <td>0.021582</td>\n",
       "      <td>0.033392</td>\n",
       "      <td>-0.384058</td>\n",
       "      <td>1043</td>\n",
       "    </tr>\n",
       "    <tr>\n",
       "      <th>ISRG</th>\n",
       "      <td>0.193241</td>\n",
       "      <td>0.320771</td>\n",
       "      <td>0.234587</td>\n",
       "      <td>0.675693</td>\n",
       "      <td>0.267017</td>\n",
       "      <td>12.654900</td>\n",
       "      <td>0.026830</td>\n",
       "      <td>0.045976</td>\n",
       "      <td>-0.499042</td>\n",
       "      <td>1410</td>\n",
       "    </tr>\n",
       "    <tr>\n",
       "      <th>SYK</th>\n",
       "      <td>0.137724</td>\n",
       "      <td>0.242142</td>\n",
       "      <td>0.184020</td>\n",
       "      <td>0.568435</td>\n",
       "      <td>-0.109149</td>\n",
       "      <td>13.390085</td>\n",
       "      <td>0.021730</td>\n",
       "      <td>0.035554</td>\n",
       "      <td>-0.438028</td>\n",
       "      <td>727</td>\n",
       "    </tr>\n",
       "    <tr>\n",
       "      <th>VOO</th>\n",
       "      <td>0.116381</td>\n",
       "      <td>0.173190</td>\n",
       "      <td>0.141079</td>\n",
       "      <td>0.604636</td>\n",
       "      <td>-0.377650</td>\n",
       "      <td>16.440593</td>\n",
       "      <td>0.015609</td>\n",
       "      <td>0.026421</td>\n",
       "      <td>-0.343014</td>\n",
       "      <td>745</td>\n",
       "    </tr>\n",
       "  </tbody>\n",
       "</table>\n",
       "</div>"
      ],
      "text/plain": [
       "      Annualized Return  Annualized Vol  Annualized Semideviation  \\\n",
       "BLK            0.096960        0.276937                  0.200320   \n",
       "BSX            0.168556        0.283885                  0.208833   \n",
       "HD             0.178508        0.233047                  0.178075   \n",
       "ISRG           0.193241        0.320771                  0.234587   \n",
       "SYK            0.137724        0.242142                  0.184020   \n",
       "VOO            0.116381        0.173190                  0.141079   \n",
       "\n",
       "      Sharpe Ratio  Skewness   Kurtosis  Cornish-Fisher VaR (5%)  \\\n",
       "BLK       0.324583  0.051173   9.896530                 0.025490   \n",
       "BSX       0.644248 -0.136319   9.270553                 0.027056   \n",
       "HD        0.809803 -0.618193  17.432743                 0.021582   \n",
       "ISRG      0.675693  0.267017  12.654900                 0.026830   \n",
       "SYK       0.568435 -0.109149  13.390085                 0.021730   \n",
       "VOO       0.604636 -0.377650  16.440593                 0.015609   \n",
       "\n",
       "      Historic CVaR (5%)  Max Drawdown  Drawdown Duration (Days)  \n",
       "BLK             0.040000     -0.453314                      1129  \n",
       "BSX             0.041629     -0.483368                      1242  \n",
       "HD              0.033392     -0.384058                      1043  \n",
       "ISRG            0.045976     -0.499042                      1410  \n",
       "SYK             0.035554     -0.438028                       727  \n",
       "VOO             0.026421     -0.343014                       745  "
      ]
     },
     "execution_count": 15,
     "metadata": {},
     "output_type": "execute_result"
    }
   ],
   "source": [
    "dfs = []\n",
    "for ticker in prices.columns:\n",
    "    change = prices[ticker].pct_change()\n",
    "    summary = port.summary_stats(change)\n",
    "    dfs.append(summary)\n",
    "\n",
    "\n",
    "pd.concat(dfs)\n"
   ]
  },
  {
   "cell_type": "code",
   "execution_count": 16,
   "metadata": {},
   "outputs": [
    {
     "data": {
      "text/html": [
       "<div>\n",
       "<style scoped>\n",
       "    .dataframe tbody tr th:only-of-type {\n",
       "        vertical-align: middle;\n",
       "    }\n",
       "\n",
       "    .dataframe tbody tr th {\n",
       "        vertical-align: top;\n",
       "    }\n",
       "\n",
       "    .dataframe thead th {\n",
       "        text-align: right;\n",
       "    }\n",
       "</style>\n",
       "<table border=\"1\" class=\"dataframe\">\n",
       "  <thead>\n",
       "    <tr style=\"text-align: right;\">\n",
       "      <th></th>\n",
       "      <th>Annualized Return</th>\n",
       "      <th>Annualized Vol</th>\n",
       "      <th>Annualized Semideviation</th>\n",
       "      <th>Sharpe Ratio</th>\n",
       "      <th>Skewness</th>\n",
       "      <th>Kurtosis</th>\n",
       "      <th>Cornish-Fisher VaR (5%)</th>\n",
       "      <th>Historic CVaR (5%)</th>\n",
       "      <th>Max Drawdown</th>\n",
       "      <th>Drawdown Duration (Days)</th>\n",
       "    </tr>\n",
       "  </thead>\n",
       "  <tbody>\n",
       "    <tr>\n",
       "      <th>close</th>\n",
       "      <td>0.140304</td>\n",
       "      <td>0.242274</td>\n",
       "      <td>0.18402</td>\n",
       "      <td>0.582006</td>\n",
       "      <td>-0.107628</td>\n",
       "      <td>13.364778</td>\n",
       "      <td>0.021734</td>\n",
       "      <td>0.035554</td>\n",
       "      <td>-0.438028</td>\n",
       "      <td>724</td>\n",
       "    </tr>\n",
       "  </tbody>\n",
       "</table>\n",
       "</div>"
      ],
      "text/plain": [
       "       Annualized Return  Annualized Vol  Annualized Semideviation  \\\n",
       "close           0.140304        0.242274                   0.18402   \n",
       "\n",
       "       Sharpe Ratio  Skewness   Kurtosis  Cornish-Fisher VaR (5%)  \\\n",
       "close      0.582006 -0.107628  13.364778                 0.021734   \n",
       "\n",
       "       Historic CVaR (5%)  Max Drawdown  Drawdown Duration (Days)  \n",
       "close            0.035554     -0.438028                       724  "
      ]
     },
     "execution_count": 16,
     "metadata": {},
     "output_type": "execute_result"
    }
   ],
   "source": [
    "port.summary_stats(filtered_change)"
   ]
  },
  {
   "cell_type": "code",
   "execution_count": null,
   "metadata": {},
   "outputs": [
    {
     "data": {
      "text/plain": [
       "0.03555434142407394"
      ]
     },
     "execution_count": 113,
     "metadata": {},
     "output_type": "execute_result"
    }
   ],
   "source": [
    "port.cvar_historic(filtered_change)"
   ]
  },
  {
   "cell_type": "code",
   "execution_count": null,
   "metadata": {},
   "outputs": [
    {
     "data": {
      "text/plain": [
       "724"
      ]
     },
     "execution_count": 114,
     "metadata": {},
     "output_type": "execute_result"
    }
   ],
   "source": [
    "port.drawdown_duration_from_returns(filtered_change).max().days"
   ]
  },
  {
   "cell_type": "code",
   "execution_count": null,
   "metadata": {},
   "outputs": [
    {
     "data": {
      "text/html": [
       "<div>\n",
       "<style scoped>\n",
       "    .dataframe tbody tr th:only-of-type {\n",
       "        vertical-align: middle;\n",
       "    }\n",
       "\n",
       "    .dataframe tbody tr th {\n",
       "        vertical-align: top;\n",
       "    }\n",
       "\n",
       "    .dataframe thead th {\n",
       "        text-align: right;\n",
       "    }\n",
       "</style>\n",
       "<table border=\"1\" class=\"dataframe\">\n",
       "  <thead>\n",
       "    <tr style=\"text-align: right;\">\n",
       "      <th></th>\n",
       "      <th>Wealth</th>\n",
       "      <th>Previous Peak</th>\n",
       "      <th>Drawdown</th>\n",
       "    </tr>\n",
       "    <tr>\n",
       "      <th>date</th>\n",
       "      <th></th>\n",
       "      <th></th>\n",
       "      <th></th>\n",
       "    </tr>\n",
       "  </thead>\n",
       "  <tbody>\n",
       "    <tr>\n",
       "      <th>2010-01-04</th>\n",
       "      <td>1035.537026</td>\n",
       "      <td>1035.537026</td>\n",
       "      <td>0.000000</td>\n",
       "    </tr>\n",
       "    <tr>\n",
       "      <th>2010-01-05</th>\n",
       "      <td>1045.265039</td>\n",
       "      <td>1045.265039</td>\n",
       "      <td>0.000000</td>\n",
       "    </tr>\n",
       "    <tr>\n",
       "      <th>2010-01-06</th>\n",
       "      <td>1061.346039</td>\n",
       "      <td>1061.346039</td>\n",
       "      <td>0.000000</td>\n",
       "    </tr>\n",
       "    <tr>\n",
       "      <th>2010-01-07</th>\n",
       "      <td>1096.883065</td>\n",
       "      <td>1096.883065</td>\n",
       "      <td>0.000000</td>\n",
       "    </tr>\n",
       "    <tr>\n",
       "      <th>2010-01-08</th>\n",
       "      <td>1100.258090</td>\n",
       "      <td>1100.258090</td>\n",
       "      <td>0.000000</td>\n",
       "    </tr>\n",
       "    <tr>\n",
       "      <th>...</th>\n",
       "      <td>...</td>\n",
       "      <td>...</td>\n",
       "      <td>...</td>\n",
       "    </tr>\n",
       "    <tr>\n",
       "      <th>2025-06-05</th>\n",
       "      <td>7605.717689</td>\n",
       "      <td>7939.249553</td>\n",
       "      <td>-0.042011</td>\n",
       "    </tr>\n",
       "    <tr>\n",
       "      <th>2025-06-06</th>\n",
       "      <td>7621.401628</td>\n",
       "      <td>7939.249553</td>\n",
       "      <td>-0.040035</td>\n",
       "    </tr>\n",
       "    <tr>\n",
       "      <th>2025-06-09</th>\n",
       "      <td>7589.438158</td>\n",
       "      <td>7939.249553</td>\n",
       "      <td>-0.044061</td>\n",
       "    </tr>\n",
       "    <tr>\n",
       "      <th>2025-06-10</th>\n",
       "      <td>7644.431209</td>\n",
       "      <td>7939.249553</td>\n",
       "      <td>-0.037134</td>\n",
       "    </tr>\n",
       "    <tr>\n",
       "      <th>2025-06-11</th>\n",
       "      <td>7565.614453</td>\n",
       "      <td>7939.249553</td>\n",
       "      <td>-0.047062</td>\n",
       "    </tr>\n",
       "  </tbody>\n",
       "</table>\n",
       "<p>3884 rows × 3 columns</p>\n",
       "</div>"
      ],
      "text/plain": [
       "                 Wealth  Previous Peak  Drawdown\n",
       "date                                            \n",
       "2010-01-04  1035.537026    1035.537026  0.000000\n",
       "2010-01-05  1045.265039    1045.265039  0.000000\n",
       "2010-01-06  1061.346039    1061.346039  0.000000\n",
       "2010-01-07  1096.883065    1096.883065  0.000000\n",
       "2010-01-08  1100.258090    1100.258090  0.000000\n",
       "...                 ...            ...       ...\n",
       "2025-06-05  7605.717689    7939.249553 -0.042011\n",
       "2025-06-06  7621.401628    7939.249553 -0.040035\n",
       "2025-06-09  7589.438158    7939.249553 -0.044061\n",
       "2025-06-10  7644.431209    7939.249553 -0.037134\n",
       "2025-06-11  7565.614453    7939.249553 -0.047062\n",
       "\n",
       "[3884 rows x 3 columns]"
      ]
     },
     "execution_count": 115,
     "metadata": {},
     "output_type": "execute_result"
    }
   ],
   "source": [
    "port.drawdown(filtered_change)"
   ]
  },
  {
   "cell_type": "code",
   "execution_count": null,
   "metadata": {},
   "outputs": [
    {
     "data": {
      "text/plain": [
       "date\n",
       "2010-01-04    0.035537\n",
       "2010-01-05    0.009394\n",
       "2010-01-06    0.015385\n",
       "2010-01-07    0.033483\n",
       "2010-01-08    0.003077\n",
       "                ...   \n",
       "2025-06-05    0.001438\n",
       "2025-06-06    0.002062\n",
       "2025-06-09   -0.004194\n",
       "2025-06-10    0.007246\n",
       "2025-06-11   -0.010310\n",
       "Name: close, Length: 3884, dtype: float64"
      ]
     },
     "execution_count": 116,
     "metadata": {},
     "output_type": "execute_result"
    }
   ],
   "source": [
    "filtered_change"
   ]
  },
  {
   "cell_type": "code",
   "execution_count": null,
   "metadata": {},
   "outputs": [],
   "source": []
  },
  {
   "cell_type": "code",
   "execution_count": null,
   "metadata": {},
   "outputs": [],
   "source": []
  }
 ],
 "metadata": {
  "kernelspec": {
   "display_name": "APPLIED_ANALYTICS_FINANCE",
   "language": "python",
   "name": "python3"
  },
  "language_info": {
   "codemirror_mode": {
    "name": "ipython",
    "version": 3
   },
   "file_extension": ".py",
   "mimetype": "text/x-python",
   "name": "python",
   "nbconvert_exporter": "python",
   "pygments_lexer": "ipython3",
   "version": "3.12.9"
  }
 },
 "nbformat": 4,
 "nbformat_minor": 2
}
